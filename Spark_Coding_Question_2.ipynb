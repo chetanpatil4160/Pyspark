{
  "nbformat": 4,
  "nbformat_minor": 0,
  "metadata": {
    "colab": {
      "provenance": [],
      "authorship_tag": "ABX9TyMOTf0/373cTaoyk/UWjM4n",
      "include_colab_link": true
    },
    "kernelspec": {
      "name": "python3",
      "display_name": "Python 3"
    },
    "language_info": {
      "name": "python"
    }
  },
  "cells": [
    {
      "cell_type": "markdown",
      "metadata": {
        "id": "view-in-github",
        "colab_type": "text"
      },
      "source": [
        "<a href=\"https://colab.research.google.com/github/chetanpatil4160/Pyspark/blob/main/Spark_Coding_Question_2.ipynb\" target=\"_parent\"><img src=\"https://colab.research.google.com/assets/colab-badge.svg\" alt=\"Open In Colab\"/></a>"
      ]
    },
    {
      "cell_type": "code",
      "execution_count": null,
      "metadata": {
        "id": "2Ct-CV1Q2w2M"
      },
      "outputs": [],
      "source": []
    },
    {
      "cell_type": "code",
      "source": [
        "from google.colab import drive\n",
        "drive.mount('/content/drive')"
      ],
      "metadata": {
        "colab": {
          "base_uri": "https://localhost:8080/"
        },
        "id": "zweQ6i9j26pF",
        "outputId": "a7106b65-11b2-4a19-e580-e9868e280d5a"
      },
      "execution_count": 1,
      "outputs": [
        {
          "output_type": "stream",
          "name": "stdout",
          "text": [
            "Mounted at /content/drive\n"
          ]
        }
      ]
    },
    {
      "cell_type": "code",
      "source": [
        "from pyspark.sql import SparkSession\n",
        "\n",
        "spark = SparkSession.builder.appName(\"interview\").getOrCreate()"
      ],
      "metadata": {
        "id": "OBfSd4EI27pj"
      },
      "execution_count": 2,
      "outputs": []
    },
    {
      "cell_type": "code",
      "source": [
        "df = spark.read \\\n",
        ".format(\"csv\") \\\n",
        ".option(\"header\",\"true\") \\\n",
        ".option(\"inferSchema\",\"true\") \\\n",
        ".load(\"/content/Employee_sample_data1.csv\")"
      ],
      "metadata": {
        "id": "zueygqmc4uMn"
      },
      "execution_count": 3,
      "outputs": []
    },
    {
      "cell_type": "code",
      "source": [
        "df.show()"
      ],
      "metadata": {
        "colab": {
          "base_uri": "https://localhost:8080/"
        },
        "id": "_FVnVIzw5Dcc",
        "outputId": "14a5dc26-d8d2-4fec-e342-d71722dbd299"
      },
      "execution_count": 4,
      "outputs": [
        {
          "output_type": "stream",
          "name": "stdout",
          "text": [
            "+-----------+----------------+--------------------+-----------+--------------------+------+---------+---+----------+--------+-------+-------------+---------+---------+\n",
            "|Employee_id|       full_name|                 job| department|       Business_unit|Gender|Ethnicity|Age| Hire Date|  Salary|Bonus %|      Country|     City|Exit Date|\n",
            "+-----------+----------------+--------------------+-----------+--------------------+------+---------+---+----------+--------+-------+-------------+---------+---------+\n",
            "|     E02002|          Kai Le|   Controls Engineer|Engineering|       Manufacturing|  Male|    Asian| 47|02-05-2022| 92368.0|     0%|United States| Columbus|     NULL|\n",
            "|     E02003|    Robert Patel|             Analyst|      Sales|           Corporate|  Male|    Asian| 58|10/23/2013| 45703.0|     0%|United States|  Chicago|     NULL|\n",
            "|     E02004|      Cameron Lo|Network Administr...|         IT|Research & Develo...|  Male|    Asian| 34| 3/24/2019| 83576.0|     0%|        China| Shanghai|     NULL|\n",
            "|     E02005| Harper Castillo|IT Systems Architect|         IT|           Corporate|Female|   Latino| 39|04-07-2018| 98062.0|     0%|United States|  Seattle|     NULL|\n",
            "|     E02006|Harper Dominguez|            Director|Engineering|           Corporate|Female|   Latino| 42| 6/18/2005|175391.0|    24%|United States|   Austin|     NULL|\n",
            "|     E02007|         Ezra Vu|Network Administr...|         IT|       Manufacturing|  Male|    Asian| 62| 4/22/2004| 66227.0|     0%|United States|  Phoenix|2/14/2014|\n",
            "|     E02008|         Jade Hu|         Sr. Analyst| Accounting|  Specialty Products|Female|    Asian| 58| 6/27/2009| 89744.0|     0%|        China|Chongqing|     NULL|\n",
            "|     E02009|     Miles Chang|          Analyst II|    Finance|           Corporate|  Male|    Asian| 62| 2/19/1999| 69674.0|     0%|        China|  Chengdu|     NULL|\n",
            "|     E02010|   Gianna Holmes|System Administra...|         IT|       Manufacturing|Female|Caucasian| 38|09-09-2011| 97630.0|     0%|United States|  Seattle|     NULL|\n",
            "|     E02011|  Jameson Thomas|             Manager|    Finance|  Specialty Products|  Male|Caucasian| 52|02-05-2015|105879.0|    10%|United States|    Miami|     NULL|\n",
            "|     E02012|    Jameson Pena|     Systems Analyst|         IT|       Manufacturing|  Male|   Latino| 49|10-12-2003| 40499.0|     0%|United States|    Miami|     NULL|\n",
            "|     E02013|        Bella Wu|         Sr. Analyst|    Finance|  Specialty Products|Female|    Asian| 63|08-03-2014| 71418.0|     0%|United States|  Phoenix|     NULL|\n",
            "|     E02014|       Jose Wong|            Director|         IT|       Manufacturing|  Male|    Asian| 45|11/15/2017|150558.0|    23%|        China|Chongqing|     NULL|\n",
            "|     E02015|Lucas Richardson|             Manager|  Marketing|           Corporate|  Male|Caucasian| 36| 7/22/2018|118912.0|     8%|United States|    Miami|     NULL|\n",
            "|     E02016|     Jacob Moore|         Sr. Manager|  Marketing|           Corporate|  Male|    Black| 42| 3/24/2021|131422.0|    15%|United States|  Phoenix|     NULL|\n",
            "|     E02017|         Luna Lu|IT Systems Architect|         IT|           Corporate|Female|    Asian| 62| 7/26/1997| 64208.0|     0%|United States|    Miami|     NULL|\n",
            "|     E02018|      Bella Tran|      Vice President|Engineering|  Specialty Products|Female|    Asian| 45|08-05-2010|254486.0|    33%|        China|  Chengdu|     NULL|\n",
            "|     E02019|        Ivy Chau|             Analyst|      Sales|  Specialty Products|Female|    Asian| 61|03-03-2019| 54811.0|     0%|        China|Chongqing|     NULL|\n",
            "|     E02020|    Jordan Kumar|Service Desk Analyst|         IT|  Specialty Products|  Male|    Asian| 29|11-11-2017| 95729.0|     0%|United States|  Seattle|     NULL|\n",
            "|     E02021|Sophia Gutierrez|             Manager| Accounting|  Specialty Products|Female|   Latino| 63|02-08-2009|102649.0|     6%|United States|   Austin|     NULL|\n",
            "+-----------+----------------+--------------------+-----------+--------------------+------+---------+---+----------+--------+-------+-------------+---------+---------+\n",
            "only showing top 20 rows\n",
            "\n"
          ]
        }
      ]
    },
    {
      "cell_type": "markdown",
      "source": [
        "**find higest salary by each department**"
      ],
      "metadata": {
        "id": "BzvbX8Dr5YzI"
      }
    },
    {
      "cell_type": "code",
      "source": [
        "from pyspark.sql.window import Window\n",
        "from pyspark.sql.functions import col, dense_rank\n",
        "\n",
        "# Define the window specification\n",
        "window_spec = Window.partitionBy(\"department\").orderBy(col(\"salary\").desc())\n",
        "\n",
        "# Select the top-paid employee in each department\n",
        "top_paid_employees = (\n",
        "    df.withColumn(\"dense_rank\", dense_rank().over(window_spec))\n",
        "      .filter(col(\"dense_rank\") == 1)\n",
        "      .select(\"Employee_id\", \"full_name\", \"job\", \"department\")\n",
        ")\n",
        "\n",
        "# Show the results\n",
        "top_paid_employees.show()"
      ],
      "metadata": {
        "colab": {
          "base_uri": "https://localhost:8080/"
        },
        "id": "m83u3M8x5dKD",
        "outputId": "81a9e3f2-cd6e-48c2-d558-0dce37a4d4aa"
      },
      "execution_count": 13,
      "outputs": [
        {
          "output_type": "stream",
          "name": "stdout",
          "text": [
            "+-----------+---------------+--------------+---------------+\n",
            "|Employee_id|      full_name|           job|     department|\n",
            "+-----------+---------------+--------------+---------------+\n",
            "|     E02861|  Anna Guerrero|          NULL|           NULL|\n",
            "|     E02756|  Roman Mendoza|Vice President|     Accounting|\n",
            "|     E02557|  Robert Rogers|Vice President|    Engineering|\n",
            "|     E02840|       Mia Vang|          NULL|        Finance|\n",
            "|     E02949|  Kinsley Huynh|Vice President|Human Resources|\n",
            "|     E02593|   Samantha Zhu|Vice President|             IT|\n",
            "|     E02318|     Carter Luu|Vice President|      Marketing|\n",
            "|     E02256|Eloise Williams|Vice President|          Sales|\n",
            "|     E02256|Eloise Williams|Vice President|          Sales|\n",
            "+-----------+---------------+--------------+---------------+\n",
            "\n"
          ]
        }
      ]
    },
    {
      "cell_type": "markdown",
      "source": [
        "**Salary Greater than Avg Salary of each departnment**"
      ],
      "metadata": {
        "id": "J--8SDI2_Kig"
      }
    },
    {
      "cell_type": "code",
      "source": [
        "from pyspark.sql.functions import avg, round, col\n",
        "\n",
        "# Calculate average salary per department\n",
        "avg_salary = df.groupBy(\"department\") \\\n",
        "               .agg(round(avg(\"salary\"), 2).alias(\"avg_salary\"))\n",
        "\n",
        "# Define the columns to select\n",
        "selected_columns = [\"Employee_id\", \"full_name\", \"job\", \"department\", \"salary\", \"avg_salary\"]\n",
        "\n",
        "# Perform the join and filter employees earning above or equal to the department's average salary\n",
        "result_df = (df.join(avg_salary, on=\"department\", how=\"inner\")\n",
        "               .filter(col(\"salary\") >= col(\"avg_salary\"))\n",
        "               .select(selected_columns))\n",
        "\n",
        "# Show the first 10 records\n",
        "result_df.show(10)\n",
        "\n",
        "\n",
        "\n",
        "# 2nd Approach\n",
        "from pyspark.sql.window import Window\n",
        "from pyspark.sql.functions import avg, round, col\n",
        "\n",
        "# Define the window specification partitioned by department\n",
        "window_spec = Window.partitionBy(\"department\")\n",
        "\n",
        "# Define the columns to select\n",
        "selected_columns = [\"Employee_id\", \"full_name\", \"job\", \"department\", \"salary\", \"avg_salary\"]\n",
        "\n",
        "# Calculate the average salary per department and filter employees earning above or equal to the department's average salary\n",
        "result_df = (df.withColumn(\"avg_salary\", round(avg(\"salary\").over(window_spec), 2))\n",
        "               .select(selected_columns)\n",
        "               .filter(col(\"salary\") >= col(\"avg_salary\")))\n",
        "\n",
        "# Show the result\n",
        "result_df.show(10)"
      ],
      "metadata": {
        "colab": {
          "base_uri": "https://localhost:8080/"
        },
        "id": "VNzHeE4W5xuK",
        "outputId": "654ad813-5a72-4051-da58-fb70d684111f"
      },
      "execution_count": 36,
      "outputs": [
        {
          "output_type": "stream",
          "name": "stdout",
          "text": [
            "+-----------+----------------+--------------------+-----------+--------+----------+\n",
            "|Employee_id|       full_name|                 job| department|  salary|avg_salary|\n",
            "+-----------+----------------+--------------------+-----------+--------+----------+\n",
            "|     E02005| Harper Castillo|IT Systems Architect|         IT| 98062.0|  91708.55|\n",
            "|     E02006|Harper Dominguez|            Director|Engineering|175391.0| 110982.18|\n",
            "|     E02010|   Gianna Holmes|System Administra...|         IT| 97630.0|  91708.55|\n",
            "|     E02014|       Jose Wong|            Director|         IT|150558.0|  91708.55|\n",
            "|     E02016|     Jacob Moore|         Sr. Manager|  Marketing|131422.0| 126982.61|\n",
            "|     E02018|      Bella Tran|      Vice President|Engineering|254486.0| 110982.18|\n",
            "|     E02020|    Jordan Kumar|Service Desk Analyst|         IT| 95729.0|  91708.55|\n",
            "|     E02025|      Parker Lai|      Vice President| Accounting|246400.0| 127548.87|\n",
            "|     E02026| Charles Simmons|             Manager|      Sales|113525.0| 102825.99|\n",
            "|     E02027|      Jayden Luu|            Director| Accounting|184342.0| 127548.87|\n",
            "+-----------+----------------+--------------------+-----------+--------+----------+\n",
            "only showing top 10 rows\n",
            "\n",
            "+-----------+-------------------+--------------+----------+--------+----------+\n",
            "|Employee_id|          full_name|           job|department|  salary|avg_salary|\n",
            "+-----------+-------------------+--------------+----------+--------+----------+\n",
            "|     E02788|       Ella Herrera|      Director|      NULL|156276.0| 102588.77|\n",
            "|     E02809|          Nevaeh Ng|   Sr. Manager|      NULL|159823.0| 102588.77|\n",
            "|     E02813|        Anthony Lam|   Sr. Manager|      NULL|133908.0| 102588.77|\n",
            "|     E02861|      Anna Guerrero|          NULL|      NULL|226122.0| 102588.77|\n",
            "|     E02863|          Jose Park|          NULL|      NULL|152519.0| 102588.77|\n",
            "|     E02979|               NULL|          NULL|      NULL|118644.0| 102588.77|\n",
            "|     E02989|          Jack Chin|   Sr. Manager|      NULL|121788.0| 102588.77|\n",
            "|     E02936|Valentina Fernandez|      Director|      NULL|180256.0| 102588.77|\n",
            "|     E02025|         Parker Lai|Vice President|Accounting|246400.0| 127548.87|\n",
            "|     E02027|         Jayden Luu|      Director|Accounting|184342.0| 127548.87|\n",
            "+-----------+-------------------+--------------+----------+--------+----------+\n",
            "only showing top 10 rows\n",
            "\n"
          ]
        }
      ]
    },
    {
      "cell_type": "markdown",
      "source": [
        "**For Given Department Find Out the Employee Who have been Working for 2 years**"
      ],
      "metadata": {
        "id": "nKKaKUcZBvtS"
      }
    },
    {
      "cell_type": "code",
      "source": [
        "from pyspark.sql.functions import col, to_date, coalesce, months_between, round, current_date\n",
        "\n",
        "df = df.withColumn(\n",
        "    \"hire_date\",\n",
        "    coalesce(\n",
        "        to_date(col(\"Hire Date\"), \"dd-MM-yyyy\"),\n",
        "        to_date(col(\"Hire Date\"), \"M/dd/yyyy\")\n",
        "    )\n",
        ").withColumn(\n",
        "    \"no_of_years\",\n",
        "    round(months_between(current_date(), col(\"hire_date\")) / 12, 1)\n",
        ").filter(col(\"hire_date\").isNotNull()).filter(col(\"no_of_years\") >= 2)  # Apply filter condition\n",
        "\n",
        "df.show()"
      ],
      "metadata": {
        "colab": {
          "base_uri": "https://localhost:8080/"
        },
        "id": "Fcjt0_yd_v4o",
        "outputId": "cbdc1c7e-1902-4cc8-cc41-5dad20aeb8fe"
      },
      "execution_count": 53,
      "outputs": [
        {
          "output_type": "stream",
          "name": "stdout",
          "text": [
            "+-----------+----------------+--------------------+-----------+--------------------+------+---------+---+----------+--------+-------+-------------+---------+---------+----------+-----------+\n",
            "|Employee_id|       full_name|                 job| department|       Business_unit|Gender|Ethnicity|Age| Hire Date|  Salary|Bonus %|      Country|     City|Exit Date| hire_date|no_of_years|\n",
            "+-----------+----------------+--------------------+-----------+--------------------+------+---------+---+----------+--------+-------+-------------+---------+---------+----------+-----------+\n",
            "|     E02002|          Kai Le|   Controls Engineer|Engineering|       Manufacturing|  Male|    Asian| 47|02-05-2022| 92368.0|     0%|United States| Columbus|     NULL|2022-05-02|        2.8|\n",
            "|     E02003|    Robert Patel|             Analyst|      Sales|           Corporate|  Male|    Asian| 58|10/23/2013| 45703.0|     0%|United States|  Chicago|     NULL|2013-10-23|       11.3|\n",
            "|     E02004|      Cameron Lo|Network Administr...|         IT|Research & Develo...|  Male|    Asian| 34| 3/24/2019| 83576.0|     0%|        China| Shanghai|     NULL|2019-03-24|        5.9|\n",
            "|     E02005| Harper Castillo|IT Systems Architect|         IT|           Corporate|Female|   Latino| 39|04-07-2018| 98062.0|     0%|United States|  Seattle|     NULL|2018-07-04|        6.6|\n",
            "|     E02006|Harper Dominguez|            Director|Engineering|           Corporate|Female|   Latino| 42| 6/18/2005|175391.0|    24%|United States|   Austin|     NULL|2005-06-18|       19.7|\n",
            "|     E02007|         Ezra Vu|Network Administr...|         IT|       Manufacturing|  Male|    Asian| 62| 4/22/2004| 66227.0|     0%|United States|  Phoenix|2/14/2014|2004-04-22|       20.8|\n",
            "|     E02008|         Jade Hu|         Sr. Analyst| Accounting|  Specialty Products|Female|    Asian| 58| 6/27/2009| 89744.0|     0%|        China|Chongqing|     NULL|2009-06-27|       15.6|\n",
            "|     E02009|     Miles Chang|          Analyst II|    Finance|           Corporate|  Male|    Asian| 62| 2/19/1999| 69674.0|     0%|        China|  Chengdu|     NULL|1999-02-19|       26.0|\n",
            "|     E02010|   Gianna Holmes|System Administra...|         IT|       Manufacturing|Female|Caucasian| 38|09-09-2011| 97630.0|     0%|United States|  Seattle|     NULL|2011-09-09|       13.4|\n",
            "|     E02011|  Jameson Thomas|             Manager|    Finance|  Specialty Products|  Male|Caucasian| 52|02-05-2015|105879.0|    10%|United States|    Miami|     NULL|2015-05-02|        9.8|\n",
            "|     E02012|    Jameson Pena|     Systems Analyst|         IT|       Manufacturing|  Male|   Latino| 49|10-12-2003| 40499.0|     0%|United States|    Miami|     NULL|2003-12-10|       21.2|\n",
            "|     E02013|        Bella Wu|         Sr. Analyst|    Finance|  Specialty Products|Female|    Asian| 63|08-03-2014| 71418.0|     0%|United States|  Phoenix|     NULL|2014-03-08|       10.9|\n",
            "|     E02014|       Jose Wong|            Director|         IT|       Manufacturing|  Male|    Asian| 45|11/15/2017|150558.0|    23%|        China|Chongqing|     NULL|2017-11-15|        7.3|\n",
            "|     E02015|Lucas Richardson|             Manager|  Marketing|           Corporate|  Male|Caucasian| 36| 7/22/2018|118912.0|     8%|United States|    Miami|     NULL|2018-07-22|        6.6|\n",
            "|     E02016|     Jacob Moore|         Sr. Manager|  Marketing|           Corporate|  Male|    Black| 42| 3/24/2021|131422.0|    15%|United States|  Phoenix|     NULL|2021-03-24|        3.9|\n",
            "|     E02017|         Luna Lu|IT Systems Architect|         IT|           Corporate|Female|    Asian| 62| 7/26/1997| 64208.0|     0%|United States|    Miami|     NULL|1997-07-26|       27.6|\n",
            "|     E02018|      Bella Tran|      Vice President|Engineering|  Specialty Products|Female|    Asian| 45|08-05-2010|254486.0|    33%|        China|  Chengdu|     NULL|2010-05-08|       14.8|\n",
            "|     E02019|        Ivy Chau|             Analyst|      Sales|  Specialty Products|Female|    Asian| 61|03-03-2019| 54811.0|     0%|        China|Chongqing|     NULL|2019-03-03|        6.0|\n",
            "|     E02020|    Jordan Kumar|Service Desk Analyst|         IT|  Specialty Products|  Male|    Asian| 29|11-11-2017| 95729.0|     0%|United States|  Seattle|     NULL|2017-11-11|        7.3|\n",
            "|     E02021|Sophia Gutierrez|             Manager| Accounting|  Specialty Products|Female|   Latino| 63|02-08-2009|102649.0|     6%|United States|   Austin|     NULL|2009-08-02|       15.5|\n",
            "+-----------+----------------+--------------------+-----------+--------------------+------+---------+---+----------+--------+-------+-------------+---------+---------+----------+-----------+\n",
            "only showing top 20 rows\n",
            "\n"
          ]
        }
      ]
    },
    {
      "cell_type": "code",
      "source": [
        "df.select(\"Hire Date\").distinct().show()"
      ],
      "metadata": {
        "colab": {
          "base_uri": "https://localhost:8080/"
        },
        "id": "9aw6gYF_COGk",
        "outputId": "19bb24d5-79ab-4033-a024-5273b39e30ff"
      },
      "execution_count": 39,
      "outputs": [
        {
          "output_type": "stream",
          "name": "stdout",
          "text": [
            "+----------+\n",
            "| Hire Date|\n",
            "+----------+\n",
            "|01-11-2005|\n",
            "|01-11-2015|\n",
            "|05-04-2020|\n",
            "|09-12-2022|\n",
            "| 2/20/2010|\n",
            "|09-11-2006|\n",
            "|06-02-2017|\n",
            "|11/28/2020|\n",
            "|05-04-2021|\n",
            "|01-12-2010|\n",
            "| 2/21/2014|\n",
            "|03-11-2011|\n",
            "|04-07-2018|\n",
            "| 4/28/2000|\n",
            "|11/26/2015|\n",
            "|10-02-2020|\n",
            "|08-01-2020|\n",
            "| 1/25/2007|\n",
            "| 5/19/2008|\n",
            "| 1/24/2014|\n",
            "+----------+\n",
            "only showing top 20 rows\n",
            "\n"
          ]
        }
      ]
    },
    {
      "cell_type": "code",
      "source": [],
      "metadata": {
        "id": "ozYa5KcJCsMv"
      },
      "execution_count": null,
      "outputs": []
    }
  ]
}