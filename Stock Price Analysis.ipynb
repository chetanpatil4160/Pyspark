{
 "cells": [
  {
   "cell_type": "markdown",
   "id": "4a3cc81d",
   "metadata": {},
   "source": [
    "# <b> 1. Reading and Cleaning Stock Price Data"
   ]
  },
  {
   "cell_type": "code",
   "execution_count": 1,
   "id": "e3a199ab",
   "metadata": {},
   "outputs": [],
   "source": [
    "from pyspark.sql import SparkSession\n",
    "import getpass\n",
    "username = getpass.getuser()\n",
    "spark = SparkSession. \\\n",
    "builder. \\\n",
    "config('spark.ui.port', '0'). \\\n",
    "config(\"spark.sql.warehouse.dir\", f\"/user/{username}/warehouse\"). \\\n",
    "enableHiveSupport(). \\\n",
    "master('yarn'). \\\n",
    "getOrCreate()"
   ]
  },
  {
   "cell_type": "code",
   "execution_count": 2,
   "id": "fbb409f0",
   "metadata": {},
   "outputs": [
    {
     "data": {
      "text/html": [
       "\n",
       "            <div>\n",
       "                <p><b>SparkSession - hive</b></p>\n",
       "                \n",
       "        <div>\n",
       "            <p><b>SparkContext</b></p>\n",
       "\n",
       "            <p><a href=\"http://g01.itversity.com:41451\">Spark UI</a></p>\n",
       "\n",
       "            <dl>\n",
       "              <dt>Version</dt>\n",
       "                <dd><code>v3.1.2</code></dd>\n",
       "              <dt>Master</dt>\n",
       "                <dd><code>yarn</code></dd>\n",
       "              <dt>AppName</dt>\n",
       "                <dd><code>pyspark-shell</code></dd>\n",
       "            </dl>\n",
       "        </div>\n",
       "        \n",
       "            </div>\n",
       "        "
      ],
      "text/plain": [
       "<pyspark.sql.session.SparkSession at 0x7fc3dc5302b0>"
      ]
     },
     "execution_count": 2,
     "metadata": {},
     "output_type": "execute_result"
    }
   ],
   "source": [
    "spark"
   ]
  },
  {
   "cell_type": "code",
   "execution_count": 3,
   "id": "9ef0e8dc",
   "metadata": {},
   "outputs": [
    {
     "name": "stdout",
     "output_type": "stream",
     "text": [
      "Found 12 items\n",
      "-rw-r--r--   3 itv015144 supergroup      76499 2025-01-26 01:08 /user/itv015144/data/Stock_Ananlysis/AAPL.csv\n",
      "-rw-r--r--   3 itv015144 supergroup      76282 2025-01-26 01:08 /user/itv015144/data/Stock_Ananlysis/AMZN.csv\n",
      "-rw-r--r--   3 itv015144 supergroup      78139 2025-01-26 01:08 /user/itv015144/data/Stock_Ananlysis/BRK-B.csv\n",
      "-rw-r--r--   3 itv015144 supergroup      76248 2025-01-26 01:08 /user/itv015144/data/Stock_Ananlysis/GOOGL.csv\n",
      "-rw-r--r--   3 itv015144 supergroup      78019 2025-01-26 01:08 /user/itv015144/data/Stock_Ananlysis/META.csv\n",
      "-rw-r--r--   3 itv015144 supergroup      78045 2025-01-26 01:08 /user/itv015144/data/Stock_Ananlysis/MSFT.csv\n",
      "-rw-r--r--   3 itv015144 supergroup      76004 2025-01-26 01:08 /user/itv015144/data/Stock_Ananlysis/NVDA.csv\n",
      "-rw-r--r--   3 itv015144 supergroup      66751 2025-01-26 01:08 /user/itv015144/data/Stock_Ananlysis/QQQ.csv\n",
      "-rw-r--r--   3 itv015144 supergroup      66851 2025-01-26 01:08 /user/itv015144/data/Stock_Ananlysis/SPY.csv\n",
      "-rw-r--r--   3 itv015144 supergroup      76636 2025-01-26 01:08 /user/itv015144/data/Stock_Ananlysis/TSLA.csv\n",
      "-rw-r--r--   3 itv015144 supergroup      72425 2025-01-26 01:08 /user/itv015144/data/Stock_Ananlysis/TSM.csv\n",
      "-rw-r--r--   3 itv015144 supergroup      73347 2025-01-26 01:08 /user/itv015144/data/Stock_Ananlysis/V.csv\n"
     ]
    }
   ],
   "source": [
    "# Path To Files \n",
    "!hadoop fs -ls /user/itv015144/data/Stock_Ananlysis"
   ]
  },
  {
   "cell_type": "code",
   "execution_count": 4,
   "id": "8619ee66",
   "metadata": {},
   "outputs": [],
   "source": [
    "## Reading CSV data => Stocks\n",
    "stocks = spark.read \\\n",
    ".format(\"csv\") \\\n",
    ".option(\"header\",True) \\\n",
    ".load(\"/user/itv015144/data/Stock_Ananlysis/*\")"
   ]
  },
  {
   "cell_type": "code",
   "execution_count": 5,
   "id": "d7e37574",
   "metadata": {},
   "outputs": [
    {
     "name": "stdout",
     "output_type": "stream",
     "text": [
      "+------+----------+----------+-------+--------+--------+--------+\n",
      "|Ticker|      Date|Close/Last| Volume|    Open|    High|     Low|\n",
      "+------+----------+----------+-------+--------+--------+--------+\n",
      "| BRK-B|05/31/2023|  $321.08 |6175417|$321.12 |$322.41 |$319.39 |\n",
      "| BRK-B|05/30/2023|  $322.19 |3232461|$321.86 |$322.47 |$319.00 |\n",
      "| BRK-B|05/26/2023|  $320.60 |3229873|$320.44 |$322.63 |$319.67 |\n",
      "| BRK-B|05/25/2023|  $319.02 |4251935|$320.56 |$320.56 |$317.71 |\n",
      "| BRK-B|05/24/2023|  $320.20 |3075393|$322.71 |$323.00 |$319.56 |\n",
      "+------+----------+----------+-------+--------+--------+--------+\n",
      "only showing top 5 rows\n",
      "\n"
     ]
    }
   ],
   "source": [
    "## Seeing Data => Dataframe\n",
    "stocks.show(5)"
   ]
  },
  {
   "cell_type": "code",
   "execution_count": 6,
   "id": "9fbbe187",
   "metadata": {},
   "outputs": [
    {
     "name": "stdout",
     "output_type": "stream",
     "text": [
      "root\n",
      " |-- Ticker: string (nullable = true)\n",
      " |-- Date: string (nullable = true)\n",
      " |-- Close/Last: string (nullable = true)\n",
      " |-- Volume: string (nullable = true)\n",
      " |-- Open: string (nullable = true)\n",
      " |-- High: string (nullable = true)\n",
      " |-- Low: string (nullable = true)\n",
      "\n"
     ]
    }
   ],
   "source": [
    "## Seeing Schema of the Data => Data Types in Dataframe\n",
    "stocks.printSchema()"
   ]
  },
  {
   "cell_type": "code",
   "execution_count": 7,
   "id": "09ddb00c",
   "metadata": {},
   "outputs": [],
   "source": [
    "## Basic select operation => Select Ticker, Date and Close price"
   ]
  },
  {
   "cell_type": "code",
   "execution_count": 8,
   "id": "922c296f",
   "metadata": {},
   "outputs": [
    {
     "name": "stdout",
     "output_type": "stream",
     "text": [
      "+------+\n",
      "|Ticker|\n",
      "+------+\n",
      "| BRK-B|\n",
      "| BRK-B|\n",
      "| BRK-B|\n",
      "| BRK-B|\n",
      "| BRK-B|\n",
      "+------+\n",
      "only showing top 5 rows\n",
      "\n"
     ]
    }
   ],
   "source": [
    "stocks.select(\"Ticker\").show(5)"
   ]
  },
  {
   "cell_type": "code",
   "execution_count": 9,
   "id": "60ed2aa6",
   "metadata": {},
   "outputs": [
    {
     "name": "stdout",
     "output_type": "stream",
     "text": [
      "+------+----------+--------+\n",
      "|Ticker|      Date|    Open|\n",
      "+------+----------+--------+\n",
      "| BRK-B|05/31/2023|$321.12 |\n",
      "| BRK-B|05/30/2023|$321.86 |\n",
      "| BRK-B|05/26/2023|$320.44 |\n",
      "| BRK-B|05/25/2023|$320.56 |\n",
      "| BRK-B|05/24/2023|$322.71 |\n",
      "+------+----------+--------+\n",
      "only showing top 5 rows\n",
      "\n"
     ]
    }
   ],
   "source": [
    "stocks.select([\"Ticker\",\"Date\",\"Open\"]).show(5)"
   ]
  },
  {
   "cell_type": "code",
   "execution_count": 10,
   "id": "6271963f",
   "metadata": {},
   "outputs": [],
   "source": [
    "## Filtering Data => Select rows containing Microsoft Stock in last one month"
   ]
  },
  {
   "cell_type": "code",
   "execution_count": 11,
   "id": "d9db18fb",
   "metadata": {},
   "outputs": [
    {
     "name": "stdout",
     "output_type": "stream",
     "text": [
      "+------+----------+----------+--------+--------+--------+--------+\n",
      "|Ticker|      Date|Close/Last|  Volume|    Open|    High|     Low|\n",
      "+------+----------+----------+--------+--------+--------+--------+\n",
      "|  MSFT|05/31/2023|  $328.39 |45950550|$332.29 |$335.94 |$327.33 |\n",
      "|  MSFT|05/30/2023|  $331.21 |29503070|$335.23 |$335.74 |$330.52 |\n",
      "|  MSFT|05/26/2023|  $332.89 |36630630|$324.02 |$333.40 |$323.88 |\n",
      "|  MSFT|05/25/2023|  $325.92 |43301740|$323.24 |$326.90 |$320.00 |\n",
      "|  MSFT|05/24/2023|  $313.85 |23384890|$314.73 |$316.50 |$312.61 |\n",
      "|  MSFT|05/23/2023|  $315.26 |30797170|$320.03 |$322.72 |$315.25 |\n",
      "|  MSFT|05/22/2023|  $321.18 |24115660|$318.60 |$322.59 |$318.01 |\n",
      "|  MSFT|05/19/2023|  $318.34 |27546700|$316.74 |$318.75 |$316.37 |\n",
      "|  MSFT|05/18/2023|  $318.52 |27275990|$314.53 |$319.04 |$313.72 |\n",
      "|  MSFT|05/17/2023|  $314.00 |24315010|$312.29 |$314.43 |$310.74 |\n",
      "+------+----------+----------+--------+--------+--------+--------+\n",
      "only showing top 10 rows\n",
      "\n"
     ]
    }
   ],
   "source": [
    "stocks.filter(stocks.Ticker == \"MSFT\").show(10)"
   ]
  },
  {
   "cell_type": "code",
   "execution_count": 12,
   "id": "3f15b51d",
   "metadata": {},
   "outputs": [
    {
     "name": "stdout",
     "output_type": "stream",
     "text": [
      "+------+----------+----------+--------+--------+--------+--------+\n",
      "|Ticker|      Date|Close/Last|  Volume|    Open|    High|     Low|\n",
      "+------+----------+----------+--------+--------+--------+--------+\n",
      "|  MSFT|05/31/2023|  $328.39 |45950550|$332.29 |$335.94 |$327.33 |\n",
      "+------+----------+----------+--------+--------+--------+--------+\n",
      "\n"
     ]
    }
   ],
   "source": [
    "stocks.filter((stocks.Ticker == \"MSFT\") & (stocks.Date == \"05/31/2023\")).show()"
   ]
  },
  {
   "cell_type": "code",
   "execution_count": 13,
   "id": "4d23ea01",
   "metadata": {},
   "outputs": [
    {
     "name": "stdout",
     "output_type": "stream",
     "text": [
      "+------+----------+----------+--------+--------+--------+--------+\n",
      "|Ticker|      Date|Close/Last|  Volume|    Open|    High|     Low|\n",
      "+------+----------+----------+--------+--------+--------+--------+\n",
      "|  MSFT|05/31/2023|  $328.39 |45950550|$332.29 |$335.94 |$327.33 |\n",
      "|     V|05/31/2023|  $221.03 |20460620|$219.96 |$221.53 |$216.14 |\n",
      "+------+----------+----------+--------+--------+--------+--------+\n",
      "\n"
     ]
    }
   ],
   "source": [
    "stocks.filter(((stocks.Ticker == \"MSFT\") | (stocks.Ticker == \"V\")) & (stocks.Date == \"05/31/2023\")).show(15)"
   ]
  },
  {
   "cell_type": "code",
   "execution_count": 14,
   "id": "8aa88462",
   "metadata": {},
   "outputs": [
    {
     "name": "stdout",
     "output_type": "stream",
     "text": [
      "+------+----------+----------+---------+--------+--------+--------+\n",
      "|Ticker|      Date|Close/Last|   Volume|    Open|    High|     Low|\n",
      "+------+----------+----------+---------+--------+--------+--------+\n",
      "|  MSFT|05/31/2023|  $328.39 | 45950550|$332.29 |$335.94 |$327.33 |\n",
      "|  TSLA|05/31/2023|  $203.93 |150711700|$199.78 |$203.95 |$195.12 |\n",
      "|     V|05/31/2023|  $221.03 | 20460620|$219.96 |$221.53 |$216.14 |\n",
      "|   SPY|05/31/2023|    417.85|110811800|  418.28|  419.22|  416.22|\n",
      "|   QQQ|05/31/2023|    347.99| 65105380|  348.37|   350.6|  346.51|\n",
      "+------+----------+----------+---------+--------+--------+--------+\n",
      "\n"
     ]
    }
   ],
   "source": [
    "stocks.filter((stocks.Ticker.isin([\"MSFT\",\"QQQ\",\"V\",\"SPY\",\"TSLA\"])) & (stocks.Date == \"05/31/2023\")).show()"
   ]
  },
  {
   "cell_type": "code",
   "execution_count": 15,
   "id": "4e57e14d",
   "metadata": {},
   "outputs": [],
   "source": [
    "# converting the string Date in Datetype\n",
    "\n",
    "from pyspark.sql.functions import *\n",
    "\n",
    "stocks = stocks.withColumn(\"ParseDate\",to_date(stocks.Date,\"MM/dd/yyyy\"))"
   ]
  },
  {
   "cell_type": "code",
   "execution_count": 16,
   "id": "a76a7f03",
   "metadata": {},
   "outputs": [
    {
     "name": "stdout",
     "output_type": "stream",
     "text": [
      "+------+----------+----------+-------+--------+--------+--------+----------+\n",
      "|Ticker|      Date|Close/Last| Volume|    Open|    High|     Low| ParseDate|\n",
      "+------+----------+----------+-------+--------+--------+--------+----------+\n",
      "| BRK-B|05/31/2023|  $321.08 |6175417|$321.12 |$322.41 |$319.39 |2023-05-31|\n",
      "| BRK-B|05/30/2023|  $322.19 |3232461|$321.86 |$322.47 |$319.00 |2023-05-30|\n",
      "| BRK-B|05/26/2023|  $320.60 |3229873|$320.44 |$322.63 |$319.67 |2023-05-26|\n",
      "| BRK-B|05/25/2023|  $319.02 |4251935|$320.56 |$320.56 |$317.71 |2023-05-25|\n",
      "| BRK-B|05/24/2023|  $320.20 |3075393|$322.71 |$323.00 |$319.56 |2023-05-24|\n",
      "| BRK-B|05/23/2023|  $323.11 |4031342|$328.19 |$329.27 |$322.97 |2023-05-23|\n",
      "| BRK-B|05/22/2023|  $329.13 |2763422|$330.75 |$331.49 |$328.35 |2023-05-22|\n",
      "| BRK-B|05/19/2023|  $330.39 |4323538|$331.00 |$333.94 |$329.12 |2023-05-19|\n",
      "| BRK-B|05/18/2023|  $329.76 |2808329|$326.87 |$329.98 |$325.85 |2023-05-18|\n",
      "| BRK-B|05/17/2023|  $327.39 |3047626|$325.02 |$328.26 |$324.82 |2023-05-17|\n",
      "| BRK-B|05/16/2023|  $323.75 |2139996|$322.46 |$324.69 |$322.36 |2023-05-16|\n",
      "| BRK-B|05/15/2023|  $323.53 |2191609|$322.89 |$323.83 |$320.13 |2023-05-15|\n",
      "| BRK-B|05/12/2023|  $322.49 |1938264|$323.82 |$324.24 |$320.54 |2023-05-12|\n",
      "| BRK-B|05/11/2023|  $322.64 |2549339|$321.00 |$322.96 |$319.81 |2023-05-11|\n",
      "| BRK-B|05/10/2023|  $322.99 |2641134|$326.08 |$326.16 |$320.15 |2023-05-10|\n",
      "| BRK-B|05/09/2023|  $324.87 |2285924|$324.87 |$326.88 |$323.48 |2023-05-09|\n",
      "| BRK-B|05/08/2023|  $326.14 |3303393|$328.26 |$330.69 |$325.79 |2023-05-08|\n",
      "| BRK-B|05/05/2023|  $323.88 |3876299|$323.36 |$325.16 |$322.62 |2023-05-05|\n",
      "| BRK-B|05/04/2023|  $320.00 |3194768|$323.44 |$325.99 |$317.41 |2023-05-04|\n",
      "| BRK-B|05/03/2023|  $323.22 |2660456|$327.13 |$328.07 |$323.06 |2023-05-03|\n",
      "+------+----------+----------+-------+--------+--------+--------+----------+\n",
      "only showing top 20 rows\n",
      "\n"
     ]
    }
   ],
   "source": [
    "stocks.show()"
   ]
  },
  {
   "cell_type": "code",
   "execution_count": 17,
   "id": "76e8452a",
   "metadata": {},
   "outputs": [
    {
     "name": "stdout",
     "output_type": "stream",
     "text": [
      "root\n",
      " |-- Ticker: string (nullable = true)\n",
      " |-- Date: string (nullable = true)\n",
      " |-- Close/Last: string (nullable = true)\n",
      " |-- Volume: string (nullable = true)\n",
      " |-- Open: string (nullable = true)\n",
      " |-- High: string (nullable = true)\n",
      " |-- Low: string (nullable = true)\n",
      " |-- ParseDate: date (nullable = true)\n",
      "\n"
     ]
    }
   ],
   "source": [
    "stocks.printSchema()"
   ]
  },
  {
   "cell_type": "code",
   "execution_count": 18,
   "id": "a359ecbc",
   "metadata": {},
   "outputs": [
    {
     "name": "stdout",
     "output_type": "stream",
     "text": [
      "5.5\n",
      "5.5\n",
      "5.5\n",
      "5\n",
      "None\n",
      "None\n"
     ]
    }
   ],
   "source": [
    "# cretae function to strip $ and then convert it into float\n",
    "def num_parser(value):\n",
    "    if isinstance(value, str):\n",
    "        # Check if the string is 'null' or any other non-numeric string\n",
    "        value = value.strip().lower()  # Strip any leading/trailing whitespace and convert to lowercase\n",
    "        if value == 'null' or value == '':  # Handle 'null' or empty strings\n",
    "            return None\n",
    "        try:\n",
    "            # Attempt to convert to float after stripping \"$\" symbol\n",
    "            return float(value.strip(\"$\"))\n",
    "        except ValueError:\n",
    "            # If conversion fails, return None\n",
    "            return None\n",
    "    elif isinstance(value, (int, float)):\n",
    "        return value\n",
    "    else:\n",
    "        return None\n",
    "\n",
    "\n",
    "print(num_parser(\"$5.5\"))\n",
    "print(num_parser(\"5.5\"))\n",
    "print(num_parser(5.5))\n",
    "print(num_parser(5))\n",
    "print(num_parser(5j))\n",
    "print(num_parser(\"'CLECL'\"))\n",
    "\n",
    "from pyspark.sql.types import *\n",
    "\n",
    "# converting function to UDF\n",
    "parser_number = udf(num_parser,FloatType())"
   ]
  },
  {
   "cell_type": "code",
   "execution_count": 19,
   "id": "12d26505",
   "metadata": {},
   "outputs": [],
   "source": [
    "# apllying that UDF to column \n",
    "stocks = stocks.withColumn(\"Open\",parser_number(stocks.Open)) \\\n",
    ".withColumn(\"Close\",parser_number(stocks[\"Close/Last\"])) \\\n",
    ".withColumn(\"High\",parser_number(stocks.High)) \\\n",
    ".withColumn(\"Low\",parser_number(stocks.Low))"
   ]
  },
  {
   "cell_type": "code",
   "execution_count": 20,
   "id": "c2686359",
   "metadata": {},
   "outputs": [
    {
     "name": "stdout",
     "output_type": "stream",
     "text": [
      "+------+----------+----------+-------+------+------+------+----------+------+\n",
      "|Ticker|      Date|Close/Last| Volume|  Open|  High|   Low| ParseDate| Close|\n",
      "+------+----------+----------+-------+------+------+------+----------+------+\n",
      "| BRK-B|05/31/2023|  $321.08 |6175417|321.12|322.41|319.39|2023-05-31|321.08|\n",
      "| BRK-B|05/30/2023|  $322.19 |3232461|321.86|322.47| 319.0|2023-05-30|322.19|\n",
      "| BRK-B|05/26/2023|  $320.60 |3229873|320.44|322.63|319.67|2023-05-26| 320.6|\n",
      "| BRK-B|05/25/2023|  $319.02 |4251935|320.56|320.56|317.71|2023-05-25|319.02|\n",
      "| BRK-B|05/24/2023|  $320.20 |3075393|322.71| 323.0|319.56|2023-05-24| 320.2|\n",
      "| BRK-B|05/23/2023|  $323.11 |4031342|328.19|329.27|322.97|2023-05-23|323.11|\n",
      "| BRK-B|05/22/2023|  $329.13 |2763422|330.75|331.49|328.35|2023-05-22|329.13|\n",
      "| BRK-B|05/19/2023|  $330.39 |4323538| 331.0|333.94|329.12|2023-05-19|330.39|\n",
      "| BRK-B|05/18/2023|  $329.76 |2808329|326.87|329.98|325.85|2023-05-18|329.76|\n",
      "| BRK-B|05/17/2023|  $327.39 |3047626|325.02|328.26|324.82|2023-05-17|327.39|\n",
      "| BRK-B|05/16/2023|  $323.75 |2139996|322.46|324.69|322.36|2023-05-16|323.75|\n",
      "| BRK-B|05/15/2023|  $323.53 |2191609|322.89|323.83|320.13|2023-05-15|323.53|\n",
      "| BRK-B|05/12/2023|  $322.49 |1938264|323.82|324.24|320.54|2023-05-12|322.49|\n",
      "| BRK-B|05/11/2023|  $322.64 |2549339| 321.0|322.96|319.81|2023-05-11|322.64|\n",
      "| BRK-B|05/10/2023|  $322.99 |2641134|326.08|326.16|320.15|2023-05-10|322.99|\n",
      "| BRK-B|05/09/2023|  $324.87 |2285924|324.87|326.88|323.48|2023-05-09|324.87|\n",
      "| BRK-B|05/08/2023|  $326.14 |3303393|328.26|330.69|325.79|2023-05-08|326.14|\n",
      "| BRK-B|05/05/2023|  $323.88 |3876299|323.36|325.16|322.62|2023-05-05|323.88|\n",
      "| BRK-B|05/04/2023|  $320.00 |3194768|323.44|325.99|317.41|2023-05-04| 320.0|\n",
      "| BRK-B|05/03/2023|  $323.22 |2660456|327.13|328.07|323.06|2023-05-03|323.22|\n",
      "+------+----------+----------+-------+------+------+------+----------+------+\n",
      "only showing top 20 rows\n",
      "\n"
     ]
    }
   ],
   "source": [
    "stocks.show()"
   ]
  },
  {
   "cell_type": "code",
   "execution_count": 21,
   "id": "f213b33c",
   "metadata": {},
   "outputs": [
    {
     "name": "stdout",
     "output_type": "stream",
     "text": [
      "root\n",
      " |-- Ticker: string (nullable = true)\n",
      " |-- Date: string (nullable = true)\n",
      " |-- Close/Last: string (nullable = true)\n",
      " |-- Volume: string (nullable = true)\n",
      " |-- Open: float (nullable = true)\n",
      " |-- High: float (nullable = true)\n",
      " |-- Low: float (nullable = true)\n",
      " |-- ParseDate: date (nullable = true)\n",
      " |-- Close: float (nullable = true)\n",
      "\n"
     ]
    }
   ],
   "source": [
    "stocks.printSchema()"
   ]
  },
  {
   "cell_type": "code",
   "execution_count": 22,
   "id": "f6935ce8",
   "metadata": {},
   "outputs": [],
   "source": [
    "# create udf for converting volumn to int\n",
    "parse_int = udf(lambda value:int(value),IntegerType())"
   ]
  },
  {
   "cell_type": "code",
   "execution_count": 23,
   "id": "05ba61d3",
   "metadata": {},
   "outputs": [],
   "source": [
    "stocks = stocks.withColumn(\"Volume\",parse_int(stocks.Volume))"
   ]
  },
  {
   "cell_type": "code",
   "execution_count": 24,
   "id": "e418b9ef",
   "metadata": {},
   "outputs": [
    {
     "name": "stdout",
     "output_type": "stream",
     "text": [
      "+------+----------+----------+-------+------+------+------+----------+------+\n",
      "|Ticker|      Date|Close/Last| Volume|  Open|  High|   Low| ParseDate| Close|\n",
      "+------+----------+----------+-------+------+------+------+----------+------+\n",
      "| BRK-B|05/31/2023|  $321.08 |6175417|321.12|322.41|319.39|2023-05-31|321.08|\n",
      "| BRK-B|05/30/2023|  $322.19 |3232461|321.86|322.47| 319.0|2023-05-30|322.19|\n",
      "| BRK-B|05/26/2023|  $320.60 |3229873|320.44|322.63|319.67|2023-05-26| 320.6|\n",
      "| BRK-B|05/25/2023|  $319.02 |4251935|320.56|320.56|317.71|2023-05-25|319.02|\n",
      "| BRK-B|05/24/2023|  $320.20 |3075393|322.71| 323.0|319.56|2023-05-24| 320.2|\n",
      "| BRK-B|05/23/2023|  $323.11 |4031342|328.19|329.27|322.97|2023-05-23|323.11|\n",
      "| BRK-B|05/22/2023|  $329.13 |2763422|330.75|331.49|328.35|2023-05-22|329.13|\n",
      "| BRK-B|05/19/2023|  $330.39 |4323538| 331.0|333.94|329.12|2023-05-19|330.39|\n",
      "| BRK-B|05/18/2023|  $329.76 |2808329|326.87|329.98|325.85|2023-05-18|329.76|\n",
      "| BRK-B|05/17/2023|  $327.39 |3047626|325.02|328.26|324.82|2023-05-17|327.39|\n",
      "| BRK-B|05/16/2023|  $323.75 |2139996|322.46|324.69|322.36|2023-05-16|323.75|\n",
      "| BRK-B|05/15/2023|  $323.53 |2191609|322.89|323.83|320.13|2023-05-15|323.53|\n",
      "| BRK-B|05/12/2023|  $322.49 |1938264|323.82|324.24|320.54|2023-05-12|322.49|\n",
      "| BRK-B|05/11/2023|  $322.64 |2549339| 321.0|322.96|319.81|2023-05-11|322.64|\n",
      "| BRK-B|05/10/2023|  $322.99 |2641134|326.08|326.16|320.15|2023-05-10|322.99|\n",
      "| BRK-B|05/09/2023|  $324.87 |2285924|324.87|326.88|323.48|2023-05-09|324.87|\n",
      "| BRK-B|05/08/2023|  $326.14 |3303393|328.26|330.69|325.79|2023-05-08|326.14|\n",
      "| BRK-B|05/05/2023|  $323.88 |3876299|323.36|325.16|322.62|2023-05-05|323.88|\n",
      "| BRK-B|05/04/2023|  $320.00 |3194768|323.44|325.99|317.41|2023-05-04| 320.0|\n",
      "| BRK-B|05/03/2023|  $323.22 |2660456|327.13|328.07|323.06|2023-05-03|323.22|\n",
      "+------+----------+----------+-------+------+------+------+----------+------+\n",
      "only showing top 20 rows\n",
      "\n"
     ]
    }
   ],
   "source": [
    "stocks.show()"
   ]
  },
  {
   "cell_type": "code",
   "execution_count": 25,
   "id": "7bada572",
   "metadata": {},
   "outputs": [
    {
     "name": "stdout",
     "output_type": "stream",
     "text": [
      "root\n",
      " |-- Ticker: string (nullable = true)\n",
      " |-- Date: string (nullable = true)\n",
      " |-- Close/Last: string (nullable = true)\n",
      " |-- Volume: integer (nullable = true)\n",
      " |-- Open: float (nullable = true)\n",
      " |-- High: float (nullable = true)\n",
      " |-- Low: float (nullable = true)\n",
      " |-- ParseDate: date (nullable = true)\n",
      " |-- Close: float (nullable = true)\n",
      "\n"
     ]
    }
   ],
   "source": [
    "stocks.printSchema()"
   ]
  },
  {
   "cell_type": "code",
   "execution_count": 26,
   "id": "e5707568",
   "metadata": {},
   "outputs": [
    {
     "name": "stdout",
     "output_type": "stream",
     "text": [
      "+------+----------+-------+------+------+------+------+\n",
      "|Ticker| ParseDate| Volume| Close|  Open|  High|   Low|\n",
      "+------+----------+-------+------+------+------+------+\n",
      "| BRK-B|2023-05-31|6175417|321.08|321.12|322.41|319.39|\n",
      "| BRK-B|2023-05-30|3232461|322.19|321.86|322.47| 319.0|\n",
      "| BRK-B|2023-05-26|3229873| 320.6|320.44|322.63|319.67|\n",
      "| BRK-B|2023-05-25|4251935|319.02|320.56|320.56|317.71|\n",
      "| BRK-B|2023-05-24|3075393| 320.2|322.71| 323.0|319.56|\n",
      "| BRK-B|2023-05-23|4031342|323.11|328.19|329.27|322.97|\n",
      "| BRK-B|2023-05-22|2763422|329.13|330.75|331.49|328.35|\n",
      "| BRK-B|2023-05-19|4323538|330.39| 331.0|333.94|329.12|\n",
      "| BRK-B|2023-05-18|2808329|329.76|326.87|329.98|325.85|\n",
      "| BRK-B|2023-05-17|3047626|327.39|325.02|328.26|324.82|\n",
      "| BRK-B|2023-05-16|2139996|323.75|322.46|324.69|322.36|\n",
      "| BRK-B|2023-05-15|2191609|323.53|322.89|323.83|320.13|\n",
      "| BRK-B|2023-05-12|1938264|322.49|323.82|324.24|320.54|\n",
      "| BRK-B|2023-05-11|2549339|322.64| 321.0|322.96|319.81|\n",
      "| BRK-B|2023-05-10|2641134|322.99|326.08|326.16|320.15|\n",
      "| BRK-B|2023-05-09|2285924|324.87|324.87|326.88|323.48|\n",
      "| BRK-B|2023-05-08|3303393|326.14|328.26|330.69|325.79|\n",
      "| BRK-B|2023-05-05|3876299|323.88|323.36|325.16|322.62|\n",
      "| BRK-B|2023-05-04|3194768| 320.0|323.44|325.99|317.41|\n",
      "| BRK-B|2023-05-03|2660456|323.22|327.13|328.07|323.06|\n",
      "+------+----------+-------+------+------+------+------+\n",
      "only showing top 20 rows\n",
      "\n"
     ]
    }
   ],
   "source": [
    "# Selecting Columns that we need\n",
    "clean_stocks = stocks.select([\"Ticker\",\"ParseDate\",\"Volume\",\"Close\",\"Open\",\"High\",\"Low\"])\n",
    "clean_stocks.show()"
   ]
  },
  {
   "cell_type": "code",
   "execution_count": 27,
   "id": "86146340",
   "metadata": {},
   "outputs": [
    {
     "name": "stdout",
     "output_type": "stream",
     "text": [
      "+-------+--------------------+------------------+------------------+------------------+------------------+\n",
      "|summary|              Volume|             Close|              Open|              High|               Low|\n",
      "+-------+--------------------+------------------+------------------+------------------+------------------+\n",
      "|  count|               15108|             15108|             15108|             15108|             15108|\n",
      "|   mean|5.1868408793685466E7| 180.1256089860054|180.09656566181036| 182.1253348687101| 177.9982781513109|\n",
      "| stddev| 5.496484129953464E7|101.14891782168543|101.16125813324383|101.96625521621753|100.26590135955234|\n",
      "|    min|              961133|             11.93|             12.07|             12.45|              11.8|\n",
      "|    max|           914080943|            477.71|            479.22|            479.98|            476.06|\n",
      "+-------+--------------------+------------------+------------------+------------------+------------------+\n",
      "\n"
     ]
    }
   ],
   "source": [
    "clean_stocks.describe([\"Volume\",\"Close\",\"Open\",\"High\",\"Low\"]).show()"
   ]
  },
  {
   "cell_type": "markdown",
   "id": "084024a1",
   "metadata": {},
   "source": [
    "# <b> 2. Basic Stock Analysis"
   ]
  },
  {
   "cell_type": "code",
   "execution_count": 28,
   "id": "0f263ea0",
   "metadata": {},
   "outputs": [
    {
     "name": "stdout",
     "output_type": "stream",
     "text": [
      "+------+-------------+------------+\n",
      "|Ticker|MaxStockPrice| TotalVolume|\n",
      "+------+-------------+------------+\n",
      "| BRK-B|       361.39|  5862401321|\n",
      "|   TSM|       141.61| 12506470104|\n",
      "|  AAPL|       182.63|139310061360|\n",
      "|  META|       381.68| 30148848043|\n",
      "|  TSLA|       411.47|171802975076|\n",
      "|   QQQ|       405.57| 60437153773|\n",
      "|     V|       250.05| 10410997871|\n",
      "| GOOGL|       151.25| 43956560981|\n",
      "|   SPY|       479.22|107925285300|\n",
      "|  AMZN|        187.2|104503287430|\n",
      "|  MSFT|       344.62| 37976660472|\n",
      "|  NVDA|       405.95| 58787218324|\n",
      "+------+-------------+------------+\n",
      "\n"
     ]
    }
   ],
   "source": [
    "## Calculate maximum stock price for various stocks\n",
    "clean_stocks.groupBy(clean_stocks.Ticker).agg(\n",
    "    max(clean_stocks.Open).alias(\"MaxStockPrice\"),\n",
    "    sum(clean_stocks.Volume).alias(\"TotalVolume\")).show()"
   ]
  },
  {
   "cell_type": "code",
   "execution_count": 29,
   "id": "cad318c3",
   "metadata": {},
   "outputs": [],
   "source": [
    "# spliting Date Column in Different Component\n",
    "clean_stocks = (clean_stocks.withColumn(\"Year\",year(\"ParseDate\"))\n",
    "             .withColumn(\"Month\",month(\"ParseDate\"))\n",
    "             .withColumn(\"Day\",dayofmonth(\"ParseDate\"))\n",
    "             .withColumn(\"Week\",weekofyear(\"ParseDate\")))"
   ]
  },
  {
   "cell_type": "code",
   "execution_count": 30,
   "id": "b6d46535",
   "metadata": {},
   "outputs": [
    {
     "name": "stdout",
     "output_type": "stream",
     "text": [
      "+------+----------+-------+------+------+------+------+----+-----+---+----+\n",
      "|Ticker| ParseDate| Volume| Close|  Open|  High|   Low|Year|Month|Day|Week|\n",
      "+------+----------+-------+------+------+------+------+----+-----+---+----+\n",
      "| BRK-B|2023-05-31|6175417|321.08|321.12|322.41|319.39|2023|    5| 31|  22|\n",
      "| BRK-B|2023-05-30|3232461|322.19|321.86|322.47| 319.0|2023|    5| 30|  22|\n",
      "| BRK-B|2023-05-26|3229873| 320.6|320.44|322.63|319.67|2023|    5| 26|  21|\n",
      "| BRK-B|2023-05-25|4251935|319.02|320.56|320.56|317.71|2023|    5| 25|  21|\n",
      "| BRK-B|2023-05-24|3075393| 320.2|322.71| 323.0|319.56|2023|    5| 24|  21|\n",
      "| BRK-B|2023-05-23|4031342|323.11|328.19|329.27|322.97|2023|    5| 23|  21|\n",
      "| BRK-B|2023-05-22|2763422|329.13|330.75|331.49|328.35|2023|    5| 22|  21|\n",
      "| BRK-B|2023-05-19|4323538|330.39| 331.0|333.94|329.12|2023|    5| 19|  20|\n",
      "| BRK-B|2023-05-18|2808329|329.76|326.87|329.98|325.85|2023|    5| 18|  20|\n",
      "| BRK-B|2023-05-17|3047626|327.39|325.02|328.26|324.82|2023|    5| 17|  20|\n",
      "| BRK-B|2023-05-16|2139996|323.75|322.46|324.69|322.36|2023|    5| 16|  20|\n",
      "| BRK-B|2023-05-15|2191609|323.53|322.89|323.83|320.13|2023|    5| 15|  20|\n",
      "| BRK-B|2023-05-12|1938264|322.49|323.82|324.24|320.54|2023|    5| 12|  19|\n",
      "| BRK-B|2023-05-11|2549339|322.64| 321.0|322.96|319.81|2023|    5| 11|  19|\n",
      "| BRK-B|2023-05-10|2641134|322.99|326.08|326.16|320.15|2023|    5| 10|  19|\n",
      "| BRK-B|2023-05-09|2285924|324.87|324.87|326.88|323.48|2023|    5|  9|  19|\n",
      "| BRK-B|2023-05-08|3303393|326.14|328.26|330.69|325.79|2023|    5|  8|  19|\n",
      "| BRK-B|2023-05-05|3876299|323.88|323.36|325.16|322.62|2023|    5|  5|  18|\n",
      "| BRK-B|2023-05-04|3194768| 320.0|323.44|325.99|317.41|2023|    5|  4|  18|\n",
      "| BRK-B|2023-05-03|2660456|323.22|327.13|328.07|323.06|2023|    5|  3|  18|\n",
      "+------+----------+-------+------+------+------+------+----+-----+---+----+\n",
      "only showing top 20 rows\n",
      "\n"
     ]
    }
   ],
   "source": [
    "clean_stocks.show()"
   ]
  },
  {
   "cell_type": "code",
   "execution_count": 31,
   "id": "16d4b99c",
   "metadata": {},
   "outputs": [],
   "source": [
    "# calculate Yearly Hig And Low Stockes Price\n",
    "yearly = clean_stocks.groupBy([\"Ticker\",\"Year\"]).agg(max(\"Open\").alias(\"YearlyHigh\"),min(\"Open\").alias(\"YearlyLow\")).sort(\"Ticker\",\"Year\")"
   ]
  },
  {
   "cell_type": "code",
   "execution_count": 32,
   "id": "c16ba8e6",
   "metadata": {},
   "outputs": [
    {
     "name": "stdout",
     "output_type": "stream",
     "text": [
      "+------+----+----------+---------+\n",
      "|Ticker|Year|YearlyHigh|YearlyLow|\n",
      "+------+----+----------+---------+\n",
      "|  AAPL|2018|      57.7|    37.04|\n",
      "|  AAPL|2019|     72.78|     36.0|\n",
      "|  AAPL|2020|    138.05|    57.02|\n",
      "|  AAPL|2021|    181.12|   119.03|\n",
      "|  AAPL|2022|    182.63|   127.99|\n",
      "|  AAPL|2023|    177.33|   126.01|\n",
      "|  AMZN|2018|    101.91|     67.3|\n",
      "|  AMZN|2019|    101.28|    73.26|\n",
      "|  AMZN|2020|    177.35|    82.08|\n",
      "|  AMZN|2021|     187.2|   150.25|\n",
      "|  AMZN|2022|    170.44|     82.8|\n",
      "|  AMZN|2023|    122.37|    83.03|\n",
      "| BRK-B|2018|     224.0|   185.43|\n",
      "| BRK-B|2019|    227.27|   194.78|\n",
      "| BRK-B|2020|    233.92|    165.3|\n",
      "| BRK-B|2021|    300.88|   228.21|\n",
      "| BRK-B|2022|    361.39|   260.58|\n",
      "| BRK-B|2023|     331.0|   294.68|\n",
      "| GOOGL|2018|     64.46|    49.22|\n",
      "| GOOGL|2019|      68.2|    51.36|\n",
      "+------+----+----------+---------+\n",
      "only showing top 20 rows\n",
      "\n"
     ]
    }
   ],
   "source": [
    "yearly.show()"
   ]
  },
  {
   "cell_type": "code",
   "execution_count": 33,
   "id": "76fb4aa9",
   "metadata": {},
   "outputs": [],
   "source": [
    "# Calculating Monthly High And Low\n",
    "monthly = clean_stocks.groupBy([\"Ticker\",\"Year\",\"Month\"]).agg(max(\"Open\").alias(\"MonthlyHigh\"),min(\"Open\").alias(\"MonthlyLow\")).sort(\"Ticker\",\"Year\",\"Month\")"
   ]
  },
  {
   "cell_type": "code",
   "execution_count": 34,
   "id": "57c6196d",
   "metadata": {},
   "outputs": [
    {
     "name": "stdout",
     "output_type": "stream",
     "text": [
      "+------+----+-----+-----------+----------+\n",
      "|Ticker|Year|Month|MonthlyHigh|MonthlyLow|\n",
      "+------+----+-----+-----------+----------+\n",
      "|  AAPL|2018|    5|      46.81|     46.81|\n",
      "|  AAPL|2018|    6|      48.54|     45.75|\n",
      "|  AAPL|2018|    7|      48.75|     45.96|\n",
      "|  AAPL|2018|    8|      56.63|     49.78|\n",
      "|  AAPL|2018|    9|      57.25|     54.21|\n",
      "|  AAPL|2018|   10|       57.7|     52.79|\n",
      "|  AAPL|2018|   11|      54.76|     42.88|\n",
      "|  AAPL|2018|   12|      46.12|     37.04|\n",
      "|  AAPL|2019|    1|      41.53|      36.0|\n",
      "|  AAPL|2019|    2|      43.66|     41.74|\n",
      "|  AAPL|2019|    3|      48.84|     42.58|\n",
      "|  AAPL|2019|    4|      51.84|     47.77|\n",
      "|  AAPL|2019|    5|      52.72|     44.06|\n",
      "|  AAPL|2019|    6|      50.09|     43.86|\n",
      "|  AAPL|2019|    7|      54.11|      49.8|\n",
      "|  AAPL|2019|    8|      53.48|     48.85|\n",
      "|  AAPL|2019|    9|       56.2|     51.61|\n",
      "|  AAPL|2019|   10|      62.24|     54.61|\n",
      "|  AAPL|2019|   11|      66.98|     62.39|\n",
      "|  AAPL|2019|   12|      72.78|     64.58|\n",
      "+------+----+-----+-----------+----------+\n",
      "only showing top 20 rows\n",
      "\n"
     ]
    }
   ],
   "source": [
    "monthly.show()"
   ]
  },
  {
   "cell_type": "code",
   "execution_count": 35,
   "id": "2181427c",
   "metadata": {},
   "outputs": [],
   "source": [
    "# Calculating Weely High And Low\n",
    "Weekly = clean_stocks.groupBy([\"Ticker\",\"Year\",\"Week\"]).agg(max(\"Open\").alias(\"WeeklyHigh\"),min(\"Open\").alias(\"WeeklyLow\")).sort(\"Ticker\",\"Year\",\"Week\")"
   ]
  },
  {
   "cell_type": "code",
   "execution_count": 36,
   "id": "a390e117",
   "metadata": {},
   "outputs": [
    {
     "name": "stdout",
     "output_type": "stream",
     "text": [
      "+------+----+----+----------+---------+\n",
      "|Ticker|Year|Week|WeeklyHigh|WeeklyLow|\n",
      "+------+----+----+----------+---------+\n",
      "|  AAPL|2018|   1|     39.63|    39.63|\n",
      "|  AAPL|2018|  22|      47.0|    46.81|\n",
      "|  AAPL|2018|  23|     48.54|    47.79|\n",
      "|  AAPL|2018|  24|     48.11|    47.51|\n",
      "|  AAPL|2018|  25|     46.97|    46.29|\n",
      "|  AAPL|2018|  26|     46.57|    45.75|\n",
      "|  AAPL|2018|  27|     46.95|    45.96|\n",
      "|  AAPL|2018|  28|     47.77|    47.13|\n",
      "|  AAPL|2018|  29|     47.95|    47.42|\n",
      "|  AAPL|2018|  30|     48.75|    47.67|\n",
      "|  AAPL|2018|  31|     51.76|    47.58|\n",
      "|  AAPL|2018|  32|     52.33|    51.51|\n",
      "|  AAPL|2018|  33|     53.36|    51.93|\n",
      "|  AAPL|2018|  34|     54.53|    53.53|\n",
      "|  AAPL|2018|  35|     56.63|    54.29|\n",
      "|  AAPL|2018|  36|     57.25|    55.46|\n",
      "|  AAPL|2018|  37|     56.44|     54.5|\n",
      "|  AAPL|2018|  38|     55.54|    54.45|\n",
      "|  AAPL|2018|  39|      56.2|    54.21|\n",
      "|  AAPL|2018|  40|      57.7|    56.81|\n",
      "+------+----+----+----------+---------+\n",
      "only showing top 20 rows\n",
      "\n"
     ]
    }
   ],
   "source": [
    "Weekly.show()"
   ]
  },
  {
   "cell_type": "markdown",
   "id": "f85ec67c",
   "metadata": {},
   "source": [
    "# <b> 3. Joins"
   ]
  },
  {
   "cell_type": "code",
   "execution_count": 37,
   "id": "cb471995",
   "metadata": {},
   "outputs": [],
   "source": [
    "# Performing an inner join between clean_stocks and yearly DataFrames on Ticker and Year\n",
    "yearly = yearly.withColumnRenamed(\"Ticker\", \"Yearly_Ticker\").withColumnRenamed(\"Year\", \"Yearly_Year\")\n",
    "\n",
    "historic_stocks = clean_stocks.join(\n",
    "    yearly,\n",
    "    (clean_stocks.Ticker == yearly.Yearly_Ticker) & (clean_stocks.Year == yearly.Yearly_Year),  # Join condition\n",
    "    \"inner\"  # Type of join (only matching rows from both DataFrames)\n",
    ").drop(\"Yearly_Ticker\",\"Yearly_Year\")  # Drop the duplicate Ticker and Year columns from the 'yearly' DataFrame"
   ]
  },
  {
   "cell_type": "code",
   "execution_count": 38,
   "id": "618d92a8",
   "metadata": {},
   "outputs": [
    {
     "name": "stdout",
     "output_type": "stream",
     "text": [
      "+------+----------+-------+------+------+------+------+----+-----+---+----+----------+---------+\n",
      "|Ticker| ParseDate| Volume| Close|  Open|  High|   Low|Year|Month|Day|Week|YearlyHigh|YearlyLow|\n",
      "+------+----------+-------+------+------+------+------+----+-----+---+----+----------+---------+\n",
      "| BRK-B|2023-05-31|6175417|321.08|321.12|322.41|319.39|2023|    5| 31|  22|     331.0|   294.68|\n",
      "| BRK-B|2023-05-30|3232461|322.19|321.86|322.47| 319.0|2023|    5| 30|  22|     331.0|   294.68|\n",
      "| BRK-B|2023-05-26|3229873| 320.6|320.44|322.63|319.67|2023|    5| 26|  21|     331.0|   294.68|\n",
      "| BRK-B|2023-05-25|4251935|319.02|320.56|320.56|317.71|2023|    5| 25|  21|     331.0|   294.68|\n",
      "| BRK-B|2023-05-24|3075393| 320.2|322.71| 323.0|319.56|2023|    5| 24|  21|     331.0|   294.68|\n",
      "| BRK-B|2023-05-23|4031342|323.11|328.19|329.27|322.97|2023|    5| 23|  21|     331.0|   294.68|\n",
      "| BRK-B|2023-05-22|2763422|329.13|330.75|331.49|328.35|2023|    5| 22|  21|     331.0|   294.68|\n",
      "| BRK-B|2023-05-19|4323538|330.39| 331.0|333.94|329.12|2023|    5| 19|  20|     331.0|   294.68|\n",
      "| BRK-B|2023-05-18|2808329|329.76|326.87|329.98|325.85|2023|    5| 18|  20|     331.0|   294.68|\n",
      "| BRK-B|2023-05-17|3047626|327.39|325.02|328.26|324.82|2023|    5| 17|  20|     331.0|   294.68|\n",
      "| BRK-B|2023-05-16|2139996|323.75|322.46|324.69|322.36|2023|    5| 16|  20|     331.0|   294.68|\n",
      "| BRK-B|2023-05-15|2191609|323.53|322.89|323.83|320.13|2023|    5| 15|  20|     331.0|   294.68|\n",
      "| BRK-B|2023-05-12|1938264|322.49|323.82|324.24|320.54|2023|    5| 12|  19|     331.0|   294.68|\n",
      "| BRK-B|2023-05-11|2549339|322.64| 321.0|322.96|319.81|2023|    5| 11|  19|     331.0|   294.68|\n",
      "| BRK-B|2023-05-10|2641134|322.99|326.08|326.16|320.15|2023|    5| 10|  19|     331.0|   294.68|\n",
      "| BRK-B|2023-05-09|2285924|324.87|324.87|326.88|323.48|2023|    5|  9|  19|     331.0|   294.68|\n",
      "| BRK-B|2023-05-08|3303393|326.14|328.26|330.69|325.79|2023|    5|  8|  19|     331.0|   294.68|\n",
      "| BRK-B|2023-05-05|3876299|323.88|323.36|325.16|322.62|2023|    5|  5|  18|     331.0|   294.68|\n",
      "| BRK-B|2023-05-04|3194768| 320.0|323.44|325.99|317.41|2023|    5|  4|  18|     331.0|   294.68|\n",
      "| BRK-B|2023-05-03|2660456|323.22|327.13|328.07|323.06|2023|    5|  3|  18|     331.0|   294.68|\n",
      "+------+----------+-------+------+------+------+------+----+-----+---+----+----------+---------+\n",
      "only showing top 20 rows\n",
      "\n"
     ]
    }
   ],
   "source": [
    "historic_stocks.show()"
   ]
  },
  {
   "cell_type": "code",
   "execution_count": 39,
   "id": "80efea81",
   "metadata": {},
   "outputs": [],
   "source": [
    "# joining Historic Data With Weekly to addiing column weeklyhigh as  weeklylow\n",
    "Weekly = Weekly.withColumnRenamed(\"Ticker\", \"Weekly_Ticker\").withColumnRenamed(\"Year\", \"Weekly_Year\").withColumnRenamed(\"Week\", \"Weekly_Week\")\n",
    "\n",
    "historic_stocks = historic_stocks.join(Weekly,\n",
    "                    (historic_stocks.Ticker == Weekly.Weekly_Ticker) \n",
    "                     & (historic_stocks.Year == Weekly.Weekly_Year)\n",
    "                     & (historic_stocks.Week == Weekly.Weekly_Week),\n",
    "                     \"inner\"\n",
    "                    ).drop(\"Weekly_Ticker\",\"Weekly_Year\",\"Weekly_Week\")"
   ]
  },
  {
   "cell_type": "code",
   "execution_count": 40,
   "id": "1f02877e",
   "metadata": {},
   "outputs": [
    {
     "name": "stdout",
     "output_type": "stream",
     "text": [
      "+------+----------+-------+------+------+------+------+----+-----+---+----+----------+---------+----------+---------+\n",
      "|Ticker| ParseDate| Volume| Close|  Open|  High|   Low|Year|Month|Day|Week|YearlyHigh|YearlyLow|WeeklyHigh|WeeklyLow|\n",
      "+------+----------+-------+------+------+------+------+----+-----+---+----+----------+---------+----------+---------+\n",
      "| BRK-B|2023-05-31|6175417|321.08|321.12|322.41|319.39|2023|    5| 31|  22|     331.0|   294.68|    321.86|   321.12|\n",
      "| BRK-B|2023-05-30|3232461|322.19|321.86|322.47| 319.0|2023|    5| 30|  22|     331.0|   294.68|    321.86|   321.12|\n",
      "| BRK-B|2023-05-26|3229873| 320.6|320.44|322.63|319.67|2023|    5| 26|  21|     331.0|   294.68|    330.75|   320.44|\n",
      "| BRK-B|2023-05-25|4251935|319.02|320.56|320.56|317.71|2023|    5| 25|  21|     331.0|   294.68|    330.75|   320.44|\n",
      "| BRK-B|2023-05-24|3075393| 320.2|322.71| 323.0|319.56|2023|    5| 24|  21|     331.0|   294.68|    330.75|   320.44|\n",
      "| BRK-B|2023-05-23|4031342|323.11|328.19|329.27|322.97|2023|    5| 23|  21|     331.0|   294.68|    330.75|   320.44|\n",
      "| BRK-B|2023-05-22|2763422|329.13|330.75|331.49|328.35|2023|    5| 22|  21|     331.0|   294.68|    330.75|   320.44|\n",
      "| BRK-B|2023-05-19|4323538|330.39| 331.0|333.94|329.12|2023|    5| 19|  20|     331.0|   294.68|     331.0|   322.46|\n",
      "| BRK-B|2023-05-18|2808329|329.76|326.87|329.98|325.85|2023|    5| 18|  20|     331.0|   294.68|     331.0|   322.46|\n",
      "| BRK-B|2023-05-17|3047626|327.39|325.02|328.26|324.82|2023|    5| 17|  20|     331.0|   294.68|     331.0|   322.46|\n",
      "| BRK-B|2023-05-16|2139996|323.75|322.46|324.69|322.36|2023|    5| 16|  20|     331.0|   294.68|     331.0|   322.46|\n",
      "| BRK-B|2023-05-15|2191609|323.53|322.89|323.83|320.13|2023|    5| 15|  20|     331.0|   294.68|     331.0|   322.46|\n",
      "| BRK-B|2023-05-12|1938264|322.49|323.82|324.24|320.54|2023|    5| 12|  19|     331.0|   294.68|    328.26|    321.0|\n",
      "| BRK-B|2023-05-11|2549339|322.64| 321.0|322.96|319.81|2023|    5| 11|  19|     331.0|   294.68|    328.26|    321.0|\n",
      "| BRK-B|2023-05-10|2641134|322.99|326.08|326.16|320.15|2023|    5| 10|  19|     331.0|   294.68|    328.26|    321.0|\n",
      "| BRK-B|2023-05-09|2285924|324.87|324.87|326.88|323.48|2023|    5|  9|  19|     331.0|   294.68|    328.26|    321.0|\n",
      "| BRK-B|2023-05-08|3303393|326.14|328.26|330.69|325.79|2023|    5|  8|  19|     331.0|   294.68|    328.26|    321.0|\n",
      "| BRK-B|2023-05-05|3876299|323.88|323.36|325.16|322.62|2023|    5|  5|  18|     331.0|   294.68|    330.15|   323.36|\n",
      "| BRK-B|2023-05-04|3194768| 320.0|323.44|325.99|317.41|2023|    5|  4|  18|     331.0|   294.68|    330.15|   323.36|\n",
      "| BRK-B|2023-05-03|2660456|323.22|327.13|328.07|323.06|2023|    5|  3|  18|     331.0|   294.68|    330.15|   323.36|\n",
      "+------+----------+-------+------+------+------+------+----+-----+---+----+----------+---------+----------+---------+\n",
      "only showing top 20 rows\n",
      "\n"
     ]
    }
   ],
   "source": [
    "historic_stocks.show()"
   ]
  },
  {
   "cell_type": "code",
   "execution_count": 41,
   "id": "f22e5ac5",
   "metadata": {},
   "outputs": [],
   "source": [
    "# new Method to join Data\n",
    "historic_stocks = historic_stocks.join(monthly,[\"Ticker\",\"Year\",\"Month\"])"
   ]
  },
  {
   "cell_type": "code",
   "execution_count": 42,
   "id": "eee162c7",
   "metadata": {},
   "outputs": [
    {
     "name": "stdout",
     "output_type": "stream",
     "text": [
      "+------+----+-----+----------+-------+------+------+------+------+---+----+----------+---------+----------+---------+-----------+----------+\n",
      "|Ticker|Year|Month| ParseDate| Volume| Close|  Open|  High|   Low|Day|Week|YearlyHigh|YearlyLow|WeeklyHigh|WeeklyLow|MonthlyHigh|MonthlyLow|\n",
      "+------+----+-----+----------+-------+------+------+------+------+---+----+----------+---------+----------+---------+-----------+----------+\n",
      "| BRK-B|2023|    5|2023-05-31|6175417|321.08|321.12|322.41|319.39| 31|  22|     331.0|   294.68|    321.86|   321.12|      331.0|    320.44|\n",
      "| BRK-B|2023|    5|2023-05-30|3232461|322.19|321.86|322.47| 319.0| 30|  22|     331.0|   294.68|    321.86|   321.12|      331.0|    320.44|\n",
      "| BRK-B|2023|    5|2023-05-26|3229873| 320.6|320.44|322.63|319.67| 26|  21|     331.0|   294.68|    330.75|   320.44|      331.0|    320.44|\n",
      "| BRK-B|2023|    5|2023-05-25|4251935|319.02|320.56|320.56|317.71| 25|  21|     331.0|   294.68|    330.75|   320.44|      331.0|    320.44|\n",
      "| BRK-B|2023|    5|2023-05-24|3075393| 320.2|322.71| 323.0|319.56| 24|  21|     331.0|   294.68|    330.75|   320.44|      331.0|    320.44|\n",
      "| BRK-B|2023|    5|2023-05-23|4031342|323.11|328.19|329.27|322.97| 23|  21|     331.0|   294.68|    330.75|   320.44|      331.0|    320.44|\n",
      "| BRK-B|2023|    5|2023-05-22|2763422|329.13|330.75|331.49|328.35| 22|  21|     331.0|   294.68|    330.75|   320.44|      331.0|    320.44|\n",
      "| BRK-B|2023|    5|2023-05-19|4323538|330.39| 331.0|333.94|329.12| 19|  20|     331.0|   294.68|     331.0|   322.46|      331.0|    320.44|\n",
      "| BRK-B|2023|    5|2023-05-18|2808329|329.76|326.87|329.98|325.85| 18|  20|     331.0|   294.68|     331.0|   322.46|      331.0|    320.44|\n",
      "| BRK-B|2023|    5|2023-05-17|3047626|327.39|325.02|328.26|324.82| 17|  20|     331.0|   294.68|     331.0|   322.46|      331.0|    320.44|\n",
      "| BRK-B|2023|    5|2023-05-16|2139996|323.75|322.46|324.69|322.36| 16|  20|     331.0|   294.68|     331.0|   322.46|      331.0|    320.44|\n",
      "| BRK-B|2023|    5|2023-05-15|2191609|323.53|322.89|323.83|320.13| 15|  20|     331.0|   294.68|     331.0|   322.46|      331.0|    320.44|\n",
      "| BRK-B|2023|    5|2023-05-12|1938264|322.49|323.82|324.24|320.54| 12|  19|     331.0|   294.68|    328.26|    321.0|      331.0|    320.44|\n",
      "| BRK-B|2023|    5|2023-05-11|2549339|322.64| 321.0|322.96|319.81| 11|  19|     331.0|   294.68|    328.26|    321.0|      331.0|    320.44|\n",
      "| BRK-B|2023|    5|2023-05-10|2641134|322.99|326.08|326.16|320.15| 10|  19|     331.0|   294.68|    328.26|    321.0|      331.0|    320.44|\n",
      "| BRK-B|2023|    5|2023-05-09|2285924|324.87|324.87|326.88|323.48|  9|  19|     331.0|   294.68|    328.26|    321.0|      331.0|    320.44|\n",
      "| BRK-B|2023|    5|2023-05-08|3303393|326.14|328.26|330.69|325.79|  8|  19|     331.0|   294.68|    328.26|    321.0|      331.0|    320.44|\n",
      "| BRK-B|2023|    5|2023-05-05|3876299|323.88|323.36|325.16|322.62|  5|  18|     331.0|   294.68|    330.15|   323.36|      331.0|    320.44|\n",
      "| BRK-B|2023|    5|2023-05-04|3194768| 320.0|323.44|325.99|317.41|  4|  18|     331.0|   294.68|    330.15|   323.36|      331.0|    320.44|\n",
      "| BRK-B|2023|    5|2023-05-03|2660456|323.22|327.13|328.07|323.06|  3|  18|     331.0|   294.68|    330.15|   323.36|      331.0|    320.44|\n",
      "+------+----+-----+----------+-------+------+------+------+------+---+----+----------+---------+----------+---------+-----------+----------+\n",
      "only showing top 20 rows\n",
      "\n"
     ]
    }
   ],
   "source": [
    "historic_stocks.show()"
   ]
  },
  {
   "cell_type": "code",
   "execution_count": 43,
   "id": "89dd6e0d",
   "metadata": {},
   "outputs": [
    {
     "data": {
      "text/plain": [
       "['Ticker',\n",
       " 'Year',\n",
       " 'Month',\n",
       " 'ParseDate',\n",
       " 'Volume',\n",
       " 'Close',\n",
       " 'Open',\n",
       " 'High',\n",
       " 'Low',\n",
       " 'Day',\n",
       " 'Week',\n",
       " 'YearlyHigh',\n",
       " 'YearlyLow',\n",
       " 'WeeklyHigh',\n",
       " 'WeeklyLow',\n",
       " 'MonthlyHigh',\n",
       " 'MonthlyLow']"
      ]
     },
     "execution_count": 43,
     "metadata": {},
     "output_type": "execute_result"
    }
   ],
   "source": [
    "historic_stocks.columns"
   ]
  },
  {
   "cell_type": "code",
   "execution_count": 44,
   "id": "6d2b9445",
   "metadata": {},
   "outputs": [],
   "source": [
    "final_stocks = historic_stocks.select(['Ticker','Year','Month','Day','Week','Volume','Close','Open','High','Low',\n",
    "                                       'YearlyHigh','YearlyLow','WeeklyHigh','WeeklyLow','MonthlyHigh','MonthlyLow'])"
   ]
  },
  {
   "cell_type": "code",
   "execution_count": 45,
   "id": "54864dc3",
   "metadata": {},
   "outputs": [
    {
     "name": "stdout",
     "output_type": "stream",
     "text": [
      "+------+----+-----+---+----+-------+------+------+------+------+----------+---------+----------+---------+-----------+----------+\n",
      "|Ticker|Year|Month|Day|Week| Volume| Close|  Open|  High|   Low|YearlyHigh|YearlyLow|WeeklyHigh|WeeklyLow|MonthlyHigh|MonthlyLow|\n",
      "+------+----+-----+---+----+-------+------+------+------+------+----------+---------+----------+---------+-----------+----------+\n",
      "| BRK-B|2023|    5| 31|  22|6175417|321.08|321.12|322.41|319.39|     331.0|   294.68|    321.86|   321.12|      331.0|    320.44|\n",
      "| BRK-B|2023|    5| 30|  22|3232461|322.19|321.86|322.47| 319.0|     331.0|   294.68|    321.86|   321.12|      331.0|    320.44|\n",
      "| BRK-B|2023|    5| 26|  21|3229873| 320.6|320.44|322.63|319.67|     331.0|   294.68|    330.75|   320.44|      331.0|    320.44|\n",
      "| BRK-B|2023|    5| 25|  21|4251935|319.02|320.56|320.56|317.71|     331.0|   294.68|    330.75|   320.44|      331.0|    320.44|\n",
      "| BRK-B|2023|    5| 24|  21|3075393| 320.2|322.71| 323.0|319.56|     331.0|   294.68|    330.75|   320.44|      331.0|    320.44|\n",
      "| BRK-B|2023|    5| 23|  21|4031342|323.11|328.19|329.27|322.97|     331.0|   294.68|    330.75|   320.44|      331.0|    320.44|\n",
      "| BRK-B|2023|    5| 22|  21|2763422|329.13|330.75|331.49|328.35|     331.0|   294.68|    330.75|   320.44|      331.0|    320.44|\n",
      "| BRK-B|2023|    5| 19|  20|4323538|330.39| 331.0|333.94|329.12|     331.0|   294.68|     331.0|   322.46|      331.0|    320.44|\n",
      "| BRK-B|2023|    5| 18|  20|2808329|329.76|326.87|329.98|325.85|     331.0|   294.68|     331.0|   322.46|      331.0|    320.44|\n",
      "| BRK-B|2023|    5| 17|  20|3047626|327.39|325.02|328.26|324.82|     331.0|   294.68|     331.0|   322.46|      331.0|    320.44|\n",
      "| BRK-B|2023|    5| 16|  20|2139996|323.75|322.46|324.69|322.36|     331.0|   294.68|     331.0|   322.46|      331.0|    320.44|\n",
      "| BRK-B|2023|    5| 15|  20|2191609|323.53|322.89|323.83|320.13|     331.0|   294.68|     331.0|   322.46|      331.0|    320.44|\n",
      "| BRK-B|2023|    5| 12|  19|1938264|322.49|323.82|324.24|320.54|     331.0|   294.68|    328.26|    321.0|      331.0|    320.44|\n",
      "| BRK-B|2023|    5| 11|  19|2549339|322.64| 321.0|322.96|319.81|     331.0|   294.68|    328.26|    321.0|      331.0|    320.44|\n",
      "| BRK-B|2023|    5| 10|  19|2641134|322.99|326.08|326.16|320.15|     331.0|   294.68|    328.26|    321.0|      331.0|    320.44|\n",
      "| BRK-B|2023|    5|  9|  19|2285924|324.87|324.87|326.88|323.48|     331.0|   294.68|    328.26|    321.0|      331.0|    320.44|\n",
      "| BRK-B|2023|    5|  8|  19|3303393|326.14|328.26|330.69|325.79|     331.0|   294.68|    328.26|    321.0|      331.0|    320.44|\n",
      "| BRK-B|2023|    5|  5|  18|3876299|323.88|323.36|325.16|322.62|     331.0|   294.68|    330.15|   323.36|      331.0|    320.44|\n",
      "| BRK-B|2023|    5|  4|  18|3194768| 320.0|323.44|325.99|317.41|     331.0|   294.68|    330.15|   323.36|      331.0|    320.44|\n",
      "| BRK-B|2023|    5|  3|  18|2660456|323.22|327.13|328.07|323.06|     331.0|   294.68|    330.15|   323.36|      331.0|    320.44|\n",
      "+------+----+-----+---+----+-------+------+------+------+------+----------+---------+----------+---------+-----------+----------+\n",
      "only showing top 20 rows\n",
      "\n"
     ]
    }
   ],
   "source": [
    "final_stocks.show()"
   ]
  },
  {
   "cell_type": "code",
   "execution_count": 46,
   "id": "c04bc064",
   "metadata": {},
   "outputs": [],
   "source": [
    "# Sql Quries Using pyspark\n",
    "final_stocks.createOrReplaceTempView(\"stocks\")"
   ]
  },
  {
   "cell_type": "code",
   "execution_count": 47,
   "id": "89b56aa2",
   "metadata": {},
   "outputs": [
    {
     "name": "stdout",
     "output_type": "stream",
     "text": [
      "+------+----+-----+---+----+--------+------+------+------+------+----------+---------+----------+---------+-----------+----------+\n",
      "|Ticker|Year|Month|Day|Week|  Volume| Close|  Open|  High|   Low|YearlyHigh|YearlyLow|WeeklyHigh|WeeklyLow|MonthlyHigh|MonthlyLow|\n",
      "+------+----+-----+---+----+--------+------+------+------+------+----------+---------+----------+---------+-----------+----------+\n",
      "|  MSFT|2023|    5| 31|  22|45950550|328.39|332.29|335.94|327.33|    335.23|    223.0|    335.23|   332.29|     335.23|    305.72|\n",
      "|  MSFT|2023|    5| 30|  22|29503070|331.21|335.23|335.74|330.52|    335.23|    223.0|    335.23|   332.29|     335.23|    305.72|\n",
      "|  MSFT|2023|    5| 26|  21|36630630|332.89|324.02| 333.4|323.88|    335.23|    223.0|    324.02|   314.73|     335.23|    305.72|\n",
      "|  MSFT|2023|    5| 25|  21|43301740|325.92|323.24| 326.9| 320.0|    335.23|    223.0|    324.02|   314.73|     335.23|    305.72|\n",
      "|  MSFT|2023|    5| 24|  21|23384890|313.85|314.73| 316.5|312.61|    335.23|    223.0|    324.02|   314.73|     335.23|    305.72|\n",
      "|  MSFT|2023|    5| 23|  21|30797170|315.26|320.03|322.72|315.25|    335.23|    223.0|    324.02|   314.73|     335.23|    305.72|\n",
      "|  MSFT|2023|    5| 22|  21|24115660|321.18| 318.6|322.59|318.01|    335.23|    223.0|    324.02|   314.73|     335.23|    305.72|\n",
      "|  MSFT|2023|    5| 19|  20|27546700|318.34|316.74|318.75|316.37|    335.23|    223.0|    316.74|    309.1|     335.23|    305.72|\n",
      "|  MSFT|2023|    5| 18|  20|27275990|318.52|314.53|319.04|313.72|    335.23|    223.0|    316.74|    309.1|     335.23|    305.72|\n",
      "|  MSFT|2023|    5| 17|  20|24315010| 314.0|312.29|314.43|310.74|    335.23|    223.0|    316.74|    309.1|     335.23|    305.72|\n",
      "|  MSFT|2023|    5| 16|  20|26730350|311.74|309.83|313.71|309.83|    335.23|    223.0|    316.74|    309.1|     335.23|    305.72|\n",
      "|  MSFT|2023|    5| 15|  20|16336550|309.46| 309.1|309.91|307.59|    335.23|    223.0|    316.74|    309.1|     335.23|    305.72|\n",
      "|  MSFT|2023|    5| 12|  19|19774700|308.97|310.55|310.65| 306.6|    335.23|    223.0|    310.55|    308.0|     335.23|    305.72|\n",
      "|  MSFT|2023|    5| 11|  19|31680180|310.11| 310.1|311.12|306.26|    335.23|    223.0|    310.55|    308.0|     335.23|    305.72|\n",
      "|  MSFT|2023|    5| 10|  19|30078040|312.31|308.62| 313.0|307.67|    335.23|    223.0|    310.55|    308.0|     335.23|    305.72|\n",
      "|  MSFT|2023|    5|  9|  19|21340830| 307.0| 308.0|310.04|306.31|    335.23|    223.0|    310.55|    308.0|     335.23|    305.72|\n",
      "|  MSFT|2023|    5|  8|  19|21318610|308.65|310.13| 310.2|306.09|    335.23|    223.0|    310.55|    308.0|     335.23|    305.72|\n",
      "|  MSFT|2023|    5|  5|  18|28197050|310.65|305.72|311.97|304.27|    335.23|    223.0|    307.76|   305.72|     335.23|    305.72|\n",
      "|  MSFT|2023|    5|  4|  18|22519910|305.41|306.24|307.76| 303.4|    335.23|    223.0|    307.76|   305.72|     335.23|    305.72|\n",
      "|  MSFT|2023|    5|  3|  18|22360750| 304.4|306.62|308.61|304.09|    335.23|    223.0|    307.76|   305.72|     335.23|    305.72|\n",
      "+------+----+-----+---+----+--------+------+------+------+------+----------+---------+----------+---------+-----------+----------+\n",
      "only showing top 20 rows\n",
      "\n"
     ]
    }
   ],
   "source": [
    "spark.sql(\"select * from stocks where Ticker = 'MSFT' and Year = '2023' \").show()"
   ]
  },
  {
   "cell_type": "markdown",
   "id": "9dd6b62a",
   "metadata": {},
   "source": [
    "# <b> 4. Advanced Analysis"
   ]
  },
  {
   "cell_type": "code",
   "execution_count": 48,
   "id": "a859992f",
   "metadata": {},
   "outputs": [
    {
     "name": "stdout",
     "output_type": "stream",
     "text": [
      "+------+----------+-------+------+------+------+------+----+-----+---+----+\n",
      "|Ticker| ParseDate| Volume| Close|  Open|  High|   Low|Year|Month|Day|Week|\n",
      "+------+----------+-------+------+------+------+------+----+-----+---+----+\n",
      "| BRK-B|2023-05-31|6175417|321.08|321.12|322.41|319.39|2023|    5| 31|  22|\n",
      "| BRK-B|2023-05-30|3232461|322.19|321.86|322.47| 319.0|2023|    5| 30|  22|\n",
      "| BRK-B|2023-05-26|3229873| 320.6|320.44|322.63|319.67|2023|    5| 26|  21|\n",
      "| BRK-B|2023-05-25|4251935|319.02|320.56|320.56|317.71|2023|    5| 25|  21|\n",
      "| BRK-B|2023-05-24|3075393| 320.2|322.71| 323.0|319.56|2023|    5| 24|  21|\n",
      "| BRK-B|2023-05-23|4031342|323.11|328.19|329.27|322.97|2023|    5| 23|  21|\n",
      "| BRK-B|2023-05-22|2763422|329.13|330.75|331.49|328.35|2023|    5| 22|  21|\n",
      "| BRK-B|2023-05-19|4323538|330.39| 331.0|333.94|329.12|2023|    5| 19|  20|\n",
      "| BRK-B|2023-05-18|2808329|329.76|326.87|329.98|325.85|2023|    5| 18|  20|\n",
      "| BRK-B|2023-05-17|3047626|327.39|325.02|328.26|324.82|2023|    5| 17|  20|\n",
      "| BRK-B|2023-05-16|2139996|323.75|322.46|324.69|322.36|2023|    5| 16|  20|\n",
      "| BRK-B|2023-05-15|2191609|323.53|322.89|323.83|320.13|2023|    5| 15|  20|\n",
      "| BRK-B|2023-05-12|1938264|322.49|323.82|324.24|320.54|2023|    5| 12|  19|\n",
      "| BRK-B|2023-05-11|2549339|322.64| 321.0|322.96|319.81|2023|    5| 11|  19|\n",
      "| BRK-B|2023-05-10|2641134|322.99|326.08|326.16|320.15|2023|    5| 10|  19|\n",
      "| BRK-B|2023-05-09|2285924|324.87|324.87|326.88|323.48|2023|    5|  9|  19|\n",
      "| BRK-B|2023-05-08|3303393|326.14|328.26|330.69|325.79|2023|    5|  8|  19|\n",
      "| BRK-B|2023-05-05|3876299|323.88|323.36|325.16|322.62|2023|    5|  5|  18|\n",
      "| BRK-B|2023-05-04|3194768| 320.0|323.44|325.99|317.41|2023|    5|  4|  18|\n",
      "| BRK-B|2023-05-03|2660456|323.22|327.13|328.07|323.06|2023|    5|  3|  18|\n",
      "+------+----------+-------+------+------+------+------+----+-----+---+----+\n",
      "only showing top 20 rows\n",
      "\n"
     ]
    }
   ],
   "source": [
    "clean_stocks.show()"
   ]
  },
  {
   "cell_type": "code",
   "execution_count": 50,
   "id": "3ddc96e0",
   "metadata": {},
   "outputs": [],
   "source": [
    "# select required column for prcoessing for get performances benifit\n",
    "snapshot = clean_stocks.select([\"Ticker\",\"ParseDate\",\"Open\"])"
   ]
  },
  {
   "cell_type": "code",
   "execution_count": 51,
   "id": "f7827739",
   "metadata": {},
   "outputs": [
    {
     "name": "stdout",
     "output_type": "stream",
     "text": [
      "+------+----------+------+\n",
      "|Ticker| ParseDate|  Open|\n",
      "+------+----------+------+\n",
      "| BRK-B|2023-05-31|321.12|\n",
      "| BRK-B|2023-05-30|321.86|\n",
      "| BRK-B|2023-05-26|320.44|\n",
      "| BRK-B|2023-05-25|320.56|\n",
      "| BRK-B|2023-05-24|322.71|\n",
      "| BRK-B|2023-05-23|328.19|\n",
      "| BRK-B|2023-05-22|330.75|\n",
      "| BRK-B|2023-05-19| 331.0|\n",
      "| BRK-B|2023-05-18|326.87|\n",
      "| BRK-B|2023-05-17|325.02|\n",
      "| BRK-B|2023-05-16|322.46|\n",
      "| BRK-B|2023-05-15|322.89|\n",
      "| BRK-B|2023-05-12|323.82|\n",
      "| BRK-B|2023-05-11| 321.0|\n",
      "| BRK-B|2023-05-10|326.08|\n",
      "| BRK-B|2023-05-09|324.87|\n",
      "| BRK-B|2023-05-08|328.26|\n",
      "| BRK-B|2023-05-05|323.36|\n",
      "| BRK-B|2023-05-04|323.44|\n",
      "| BRK-B|2023-05-03|327.13|\n",
      "+------+----------+------+\n",
      "only showing top 20 rows\n",
      "\n"
     ]
    }
   ],
   "source": [
    "snapshot.show()"
   ]
  },
  {
   "cell_type": "code",
   "execution_count": null,
   "id": "0d01a8db",
   "metadata": {},
   "outputs": [],
   "source": []
  },
  {
   "cell_type": "code",
   "execution_count": 57,
   "id": "98bec0fa",
   "metadata": {},
   "outputs": [
    {
     "name": "stdout",
     "output_type": "stream",
     "text": [
      "+------+----------+------+------------+\n",
      "|Ticker| ParseDate|  Open|PreviousOpen|\n",
      "+------+----------+------+------------+\n",
      "| BRK-B|2018-05-31|194.29|        null|\n",
      "| BRK-B|2018-06-01| 192.9|      194.29|\n",
      "| BRK-B|2018-06-04| 193.0|       192.9|\n",
      "| BRK-B|2018-06-05|191.37|       193.0|\n",
      "| BRK-B|2018-06-06|191.69|      191.37|\n",
      "| BRK-B|2018-06-07|194.66|      191.69|\n",
      "| BRK-B|2018-06-08|195.34|      194.66|\n",
      "| BRK-B|2018-06-11| 196.3|      195.34|\n",
      "| BRK-B|2018-06-12|195.97|       196.3|\n",
      "| BRK-B|2018-06-13|195.13|      195.97|\n",
      "| BRK-B|2018-06-14|194.92|      195.13|\n",
      "| BRK-B|2018-06-15|192.28|      194.92|\n",
      "| BRK-B|2018-06-18|190.64|      192.28|\n",
      "| BRK-B|2018-06-19|190.05|      190.64|\n",
      "| BRK-B|2018-06-20|190.47|      190.05|\n",
      "| BRK-B|2018-06-21|189.05|      190.47|\n",
      "| BRK-B|2018-06-22| 190.0|      189.05|\n",
      "| BRK-B|2018-06-25|188.63|       190.0|\n",
      "| BRK-B|2018-06-26|186.52|      188.63|\n",
      "| BRK-B|2018-06-27| 186.5|      186.52|\n",
      "+------+----------+------+------------+\n",
      "only showing top 20 rows\n",
      "\n"
     ]
    }
   ],
   "source": [
    "#Calulate Previousday open price for stocks\n",
    "\n",
    "from pyspark.sql.window import Window\n",
    "\n",
    "lag1Day = Window.partitionBy(snapshot.Ticker).orderBy(snapshot.ParseDate)\n",
    "\n",
    "snapshot.withColumn(\"PreviousOpen\",lag(\"Open\").over(lag1Day)).show()"
   ]
  },
  {
   "cell_type": "code",
   "execution_count": 60,
   "id": "3794eead",
   "metadata": {},
   "outputs": [
    {
     "name": "stdout",
     "output_type": "stream",
     "text": [
      "+------+----------+------+------+\n",
      "|Ticker| ParseDate|  Open|  MA50|\n",
      "+------+----------+------+------+\n",
      "| BRK-B|2018-05-31|194.29|194.29|\n",
      "| BRK-B|2018-06-01| 192.9|193.59|\n",
      "| BRK-B|2018-06-04| 193.0| 193.4|\n",
      "| BRK-B|2018-06-05|191.37|192.89|\n",
      "| BRK-B|2018-06-06|191.69|192.65|\n",
      "| BRK-B|2018-06-07|194.66|192.98|\n",
      "| BRK-B|2018-06-08|195.34|193.32|\n",
      "| BRK-B|2018-06-11| 196.3|193.69|\n",
      "| BRK-B|2018-06-12|195.97|193.95|\n",
      "| BRK-B|2018-06-13|195.13|194.06|\n",
      "| BRK-B|2018-06-14|194.92|194.14|\n",
      "| BRK-B|2018-06-15|192.28|193.99|\n",
      "| BRK-B|2018-06-18|190.64|193.73|\n",
      "| BRK-B|2018-06-19|190.05|193.47|\n",
      "| BRK-B|2018-06-20|190.47|193.27|\n",
      "| BRK-B|2018-06-21|189.05| 193.0|\n",
      "| BRK-B|2018-06-22| 190.0|192.83|\n",
      "| BRK-B|2018-06-25|188.63|192.59|\n",
      "| BRK-B|2018-06-26|186.52|192.27|\n",
      "| BRK-B|2018-06-27| 186.5|191.99|\n",
      "+------+----------+------+------+\n",
      "only showing top 20 rows\n",
      "\n"
     ]
    }
   ],
   "source": [
    "# Calulating Moving Avg \n",
    "\n",
    "movingAvg = Window.partitionBy(snapshot.Ticker).orderBy(snapshot.ParseDate).rowsBetween(-50,Window.currentRow) \n",
    "# here we calulating moving avg for last 50 day\n",
    "\n",
    "snapshot.withColumn(\"MA50\",avg(snapshot.Open).over(movingAvg)).withColumn(\"MA50\",round(\"MA50\",2)).show()"
   ]
  },
  {
   "cell_type": "code",
   "execution_count": 62,
   "id": "96b7fd2a",
   "metadata": {},
   "outputs": [
    {
     "name": "stdout",
     "output_type": "stream",
     "text": [
      "+------+----------+------+-------+\n",
      "|Ticker| ParseDate|  Open|MaxOpen|\n",
      "+------+----------+------+-------+\n",
      "| BRK-B|2022-03-29|361.39|      1|\n",
      "| BRK-B|2022-03-28|360.59|      2|\n",
      "| BRK-B|2022-03-31| 359.0|      3|\n",
      "| BRK-B|2022-03-30|354.66|      4|\n",
      "| BRK-B|2022-03-25| 353.9|      5|\n",
      "|   TSM|2021-02-16|141.61|      1|\n",
      "|   TSM|2022-01-13|140.75|      2|\n",
      "|   TSM|2021-02-17|139.21|      3|\n",
      "|   TSM|2021-02-12|138.92|      4|\n",
      "|   TSM|2022-01-18|136.75|      5|\n",
      "|  AAPL|2022-01-04|182.63|      1|\n",
      "|  AAPL|2021-12-13|181.12|      2|\n",
      "|  AAPL|2021-12-28|180.16|      3|\n",
      "|  AAPL|2022-01-05|179.61|      4|\n",
      "|  AAPL|2021-12-30|179.47|      5|\n",
      "|  META|2021-09-13|381.68|      1|\n",
      "|  META|2021-09-02| 381.5|      2|\n",
      "|  META|2021-09-10|381.36|      3|\n",
      "|  META|2021-09-08|380.16|      4|\n",
      "|  META|2021-08-31|379.95|      5|\n",
      "+------+----------+------+-------+\n",
      "only showing top 20 rows\n",
      "\n"
     ]
    }
   ],
   "source": [
    "# calculating top N Stocke Open Price For each Stocks\n",
    "\n",
    "Maxstocks = Window.partitionBy(snapshot.Ticker).orderBy(snapshot.Open.desc())\n",
    "\n",
    "snapshot.withColumn(\"MaxOpen\",row_number().over(Maxstocks)).filter(\"MaxOpen <=5\").show()"
   ]
  },
  {
   "cell_type": "code",
   "execution_count": null,
   "id": "176939e1",
   "metadata": {},
   "outputs": [],
   "source": []
  },
  {
   "cell_type": "code",
   "execution_count": null,
   "id": "78316de7",
   "metadata": {},
   "outputs": [],
   "source": []
  },
  {
   "cell_type": "code",
   "execution_count": null,
   "id": "746e5adf",
   "metadata": {},
   "outputs": [],
   "source": []
  },
  {
   "cell_type": "code",
   "execution_count": null,
   "id": "0c5d35c3",
   "metadata": {},
   "outputs": [],
   "source": []
  },
  {
   "cell_type": "code",
   "execution_count": null,
   "id": "773ce0c3",
   "metadata": {},
   "outputs": [],
   "source": []
  },
  {
   "cell_type": "code",
   "execution_count": null,
   "id": "1eb95478",
   "metadata": {},
   "outputs": [],
   "source": []
  },
  {
   "cell_type": "code",
   "execution_count": null,
   "id": "f93f995d",
   "metadata": {},
   "outputs": [],
   "source": []
  }
 ],
 "metadata": {
  "kernelspec": {
   "display_name": "Pyspark 3",
   "language": "python",
   "name": "pyspark3"
  },
  "language_info": {
   "codemirror_mode": {
    "name": "ipython",
    "version": 3
   },
   "file_extension": ".py",
   "mimetype": "text/x-python",
   "name": "python",
   "nbconvert_exporter": "python",
   "pygments_lexer": "ipython3",
   "version": "3.6.12"
  }
 },
 "nbformat": 4,
 "nbformat_minor": 5
}
